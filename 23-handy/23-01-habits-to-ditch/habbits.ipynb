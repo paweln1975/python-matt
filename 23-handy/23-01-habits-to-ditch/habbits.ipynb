{
 "cells": [
  {
   "metadata": {
    "ExecuteTime": {
     "end_time": "2025-08-25T20:28:27.668609Z",
     "start_time": "2025-08-25T20:28:27.664672Z"
    }
   },
   "cell_type": "code",
   "source": "# 1. don't do manual formating",
   "id": "4ffffdd98862da3",
   "outputs": [],
   "execution_count": 200
  },
  {
   "metadata": {
    "ExecuteTime": {
     "end_time": "2025-08-25T20:28:27.707775Z",
     "start_time": "2025-08-25T20:28:27.702466Z"
    }
   },
   "cell_type": "code",
   "source": [
    "def print_params(param1: str, param2: str) -> str:\n",
    "    print(\"This is first parameter:\" + param1 + \" and this is second parameter:\" + param2)\n",
    "\n",
    "print_params(\"param1\", \"param2\")\n"
   ],
   "id": "a2d8eba269e6f921",
   "outputs": [
    {
     "name": "stdout",
     "output_type": "stream",
     "text": [
      "This is first parameter:param1 and this is second parameter:param2\n"
     ]
    }
   ],
   "execution_count": 201
  },
  {
   "metadata": {
    "ExecuteTime": {
     "end_time": "2025-08-25T20:28:27.779603Z",
     "start_time": "2025-08-25T20:28:27.774873Z"
    }
   },
   "cell_type": "code",
   "source": [
    "# instead use f-strings\n",
    "def print_params_with_f_string(param1: str, param2: str) -> str:\n",
    "    print(f\"This is first parameter: {param1} and this is second parameter: {param2}\")\n",
    "print_params_with_f_string(\"param1\", \"param2\")"
   ],
   "id": "7e7bea9aeee77b22",
   "outputs": [
    {
     "name": "stdout",
     "output_type": "stream",
     "text": [
      "This is first parameter: param1 and this is second parameter: param2\n"
     ]
    }
   ],
   "execution_count": 202
  },
  {
   "metadata": {
    "ExecuteTime": {
     "end_time": "2025-08-25T20:28:27.855216Z",
     "start_time": "2025-08-25T20:28:27.850030Z"
    }
   },
   "cell_type": "code",
   "source": [
    "import os\n",
    "def display_file_content_and_remove_file(file_path: str):\n",
    "    with open(file_path, 'r') as file:\n",
    "        content = file.read()\n",
    "        print(content)\n",
    "\n",
    "    os.remove(file_path)"
   ],
   "id": "ca2cf0300fb2cafd",
   "outputs": [],
   "execution_count": 203
  },
  {
   "metadata": {
    "ExecuteTime": {
     "end_time": "2025-08-25T20:28:27.906421Z",
     "start_time": "2025-08-25T20:28:27.896153Z"
    }
   },
   "cell_type": "code",
   "source": [
    "# 2. don't close the file manually\n",
    "def closing_file_manually(file_path: str):\n",
    "    file = open(file_path, 'w')\n",
    "    file.write(\"Hello, World!\")\n",
    "    file.close()\n",
    "\n",
    "closing_file_manually(\"test.txt\")\n",
    "display_file_content_and_remove_file(\"test.txt\")"
   ],
   "id": "cc4ab57822762279",
   "outputs": [
    {
     "name": "stdout",
     "output_type": "stream",
     "text": [
      "Hello, World!\n"
     ]
    }
   ],
   "execution_count": 204
  },
  {
   "metadata": {
    "ExecuteTime": {
     "end_time": "2025-08-25T20:28:27.991654Z",
     "start_time": "2025-08-25T20:28:27.982650Z"
    }
   },
   "cell_type": "code",
   "source": [
    "# use with statement instead\n",
    "def using_with_statement(file_path: str):\n",
    "    with open(file_path, 'w') as file:\n",
    "        file.write(\"Hello, World!\")\n",
    "\n",
    "using_with_statement(\"test.txt\")\n",
    "display_file_content_and_remove_file(\"test.txt\")"
   ],
   "id": "d049aa5387dc940e",
   "outputs": [
    {
     "name": "stdout",
     "output_type": "stream",
     "text": [
      "Hello, World!\n"
     ]
    }
   ],
   "execution_count": 205
  },
  {
   "metadata": {
    "ExecuteTime": {
     "end_time": "2025-08-25T20:28:28.071216Z",
     "start_time": "2025-08-25T20:28:28.061636Z"
    }
   },
   "cell_type": "code",
   "source": [
    "# 3. don't use finally instead of context manager\n",
    "def using_finally_instead_of_context_manager(file_path: str):\n",
    "    file = open(file_path, 'w')\n",
    "    try:\n",
    "        file.write(\"Hello, World!\")\n",
    "    finally:\n",
    "        file.close()\n",
    "\n",
    "using_finally_instead_of_context_manager(\"test.txt\")\n",
    "display_file_content_and_remove_file(\"test.txt\")"
   ],
   "id": "ab94704ca823c71d",
   "outputs": [
    {
     "name": "stdout",
     "output_type": "stream",
     "text": [
      "Hello, World!\n"
     ]
    }
   ],
   "execution_count": 206
  },
  {
   "metadata": {
    "ExecuteTime": {
     "end_time": "2025-08-25T20:28:28.172236Z",
     "start_time": "2025-08-25T20:28:28.162418Z"
    }
   },
   "cell_type": "code",
   "source": [
    "# use with statement instead\n",
    "def using_with_statement_instead_of_finally(file_path: str):\n",
    "    with open(file_path, 'w') as file:\n",
    "        file.write(\"Hello, World!\")\n",
    "\n",
    "using_with_statement_instead_of_finally(\"test.txt\")\n",
    "display_file_content_and_remove_file(\"test.txt\")"
   ],
   "id": "13ad1891934fc1a4",
   "outputs": [
    {
     "name": "stdout",
     "output_type": "stream",
     "text": [
      "Hello, World!\n"
     ]
    }
   ],
   "execution_count": 207
  },
  {
   "metadata": {
    "ExecuteTime": {
     "end_time": "2025-08-25T20:28:28.257589Z",
     "start_time": "2025-08-25T20:28:28.251228Z"
    }
   },
   "cell_type": "code",
   "source": [
    "# 4. don't use bare except\n",
    "def using_bare_except():\n",
    "    try:\n",
    "        x = \"a1\"\n",
    "        int(x)\n",
    "    except:\n",
    "        print(\"An error occurred\")\n",
    "\n",
    "using_bare_except()"
   ],
   "id": "1f089460534cb008",
   "outputs": [
    {
     "name": "stdout",
     "output_type": "stream",
     "text": [
      "An error occurred\n"
     ]
    }
   ],
   "execution_count": 208
  },
  {
   "metadata": {
    "ExecuteTime": {
     "end_time": "2025-08-25T20:28:28.327623Z",
     "start_time": "2025-08-25T20:28:28.322877Z"
    }
   },
   "cell_type": "code",
   "source": [
    "# use specific exception instead\n",
    "def using_specific_exception():\n",
    "    try:\n",
    "        x = \"a1\"\n",
    "        int(x)\n",
    "    except ValueError as ex:\n",
    "        print(f\"A ValueError occurred: {ex}\")\n",
    "\n",
    "using_specific_exception()"
   ],
   "id": "d48b2b8f45fecc43",
   "outputs": [
    {
     "name": "stdout",
     "output_type": "stream",
     "text": [
      "A ValueError occurred: invalid literal for int() with base 10: 'a1'\n"
     ]
    }
   ],
   "execution_count": 209
  },
  {
   "metadata": {
    "ExecuteTime": {
     "end_time": "2025-08-25T20:28:28.403344Z",
     "start_time": "2025-08-25T20:28:28.396876Z"
    }
   },
   "cell_type": "code",
   "source": [
    "# 5. don't use carret operator for exponentiation\n",
    "def using_caret_operator_for_exponentiation(base: int, exponent: int) -> int:\n",
    "    return base ^ exponent  # This is a bitwise XOR, not exponentiation\n",
    "\n",
    "exp2to3_wrong = using_caret_operator_for_exponentiation(2, 3)\n",
    "exp2to3_wrong"
   ],
   "id": "b6bc5443eb8064a1",
   "outputs": [
    {
     "data": {
      "text/plain": [
       "1"
      ]
     },
     "execution_count": 210,
     "metadata": {},
     "output_type": "execute_result"
    }
   ],
   "execution_count": 210
  },
  {
   "metadata": {
    "ExecuteTime": {
     "end_time": "2025-08-25T20:28:28.476312Z",
     "start_time": "2025-08-25T20:28:28.470539Z"
    }
   },
   "cell_type": "code",
   "source": [
    "# use ** operator instead\n",
    "def using_double_asterisk_for_exponentiation(base: int, exponent: int) -> int:\n",
    "    return base ** exponent\n",
    "\n",
    "exp2to3_pass = using_double_asterisk_for_exponentiation(2, 3)\n",
    "exp2to3_pass"
   ],
   "id": "d7da6dcd94051450",
   "outputs": [
    {
     "data": {
      "text/plain": [
       "8"
      ]
     },
     "execution_count": 211,
     "metadata": {},
     "output_type": "execute_result"
    }
   ],
   "execution_count": 211
  },
  {
   "metadata": {
    "ExecuteTime": {
     "end_time": "2025-08-25T20:28:28.580279Z",
     "start_time": "2025-08-25T20:28:28.574232Z"
    }
   },
   "cell_type": "code",
   "source": [
    "# 6. don't use mutable default arguments\n",
    "def append_to_list(value, my_list=[]):\n",
    "    my_list.append(value)\n",
    "    return my_list\n",
    "\n",
    "list1_wrong = append_to_list(1)\n",
    "list1_wrong"
   ],
   "id": "66a4153d5d37e7d4",
   "outputs": [
    {
     "data": {
      "text/plain": [
       "[1]"
      ]
     },
     "execution_count": 212,
     "metadata": {},
     "output_type": "execute_result"
    }
   ],
   "execution_count": 212
  },
  {
   "metadata": {
    "ExecuteTime": {
     "end_time": "2025-08-25T20:28:28.671277Z",
     "start_time": "2025-08-25T20:28:28.665132Z"
    }
   },
   "cell_type": "code",
   "source": [
    "\n",
    "list2_wrong = append_to_list(2)\n",
    "list2_wrong"
   ],
   "id": "5d90820294b01f41",
   "outputs": [
    {
     "data": {
      "text/plain": [
       "[1, 2]"
      ]
     },
     "execution_count": 213,
     "metadata": {},
     "output_type": "execute_result"
    }
   ],
   "execution_count": 213
  },
  {
   "metadata": {
    "ExecuteTime": {
     "end_time": "2025-08-25T20:28:28.740443Z",
     "start_time": "2025-08-25T20:28:28.733675Z"
    }
   },
   "cell_type": "code",
   "source": [
    "# use None as default value instead\n",
    "def append_to_list_safe(value, my_list=None):\n",
    "    if my_list is None:\n",
    "        my_list = []\n",
    "    my_list.append(value)\n",
    "    return my_list\n",
    "\n",
    "list1 = append_to_list_safe(1)\n",
    "list1"
   ],
   "id": "e0d0455fe694c453",
   "outputs": [
    {
     "data": {
      "text/plain": [
       "[1]"
      ]
     },
     "execution_count": 214,
     "metadata": {},
     "output_type": "execute_result"
    }
   ],
   "execution_count": 214
  },
  {
   "metadata": {
    "ExecuteTime": {
     "end_time": "2025-08-25T20:28:28.817616Z",
     "start_time": "2025-08-25T20:28:28.811734Z"
    }
   },
   "cell_type": "code",
   "source": [
    "\n",
    "list2 = append_to_list_safe(2)\n",
    "list2"
   ],
   "id": "70084c5866f23a8c",
   "outputs": [
    {
     "data": {
      "text/plain": [
       "[2]"
      ]
     },
     "execution_count": 215,
     "metadata": {},
     "output_type": "execute_result"
    }
   ],
   "execution_count": 215
  },
  {
   "metadata": {
    "ExecuteTime": {
     "end_time": "2025-08-25T20:28:28.891536Z",
     "start_time": "2025-08-25T20:28:28.885320Z"
    }
   },
   "cell_type": "code",
   "source": [
    "# 7. never using comprehensions\n",
    "def using_for_loop_to_square_numbers(numbers):\n",
    "    squared_numbers = []\n",
    "    for number in numbers:\n",
    "        squared_numbers.append(number ** 2)\n",
    "    return squared_numbers\n",
    "\n",
    "output_7 = using_for_loop_to_square_numbers([1, 2, 3, 4, 5])\n",
    "output_7"
   ],
   "id": "2bd69c3875f4bf1",
   "outputs": [
    {
     "data": {
      "text/plain": [
       "[1, 4, 9, 16, 25]"
      ]
     },
     "execution_count": 216,
     "metadata": {},
     "output_type": "execute_result"
    }
   ],
   "execution_count": 216
  },
  {
   "metadata": {
    "ExecuteTime": {
     "end_time": "2025-08-25T20:28:28.950705Z",
     "start_time": "2025-08-25T20:28:28.944549Z"
    }
   },
   "cell_type": "code",
   "source": [
    "# use list comprehensions instead\n",
    "def using_list_comprehension_to_square_numbers(numbers):\n",
    "    return [number ** 2 for number in numbers]\n",
    "\n",
    "output_7 = using_list_comprehension_to_square_numbers([1, 2, 3, 4, 5])\n",
    "output_7"
   ],
   "id": "1d2679a66a03fe00",
   "outputs": [
    {
     "data": {
      "text/plain": [
       "[1, 4, 9, 16, 25]"
      ]
     },
     "execution_count": 217,
     "metadata": {},
     "output_type": "execute_result"
    }
   ],
   "execution_count": 217
  },
  {
   "metadata": {
    "ExecuteTime": {
     "end_time": "2025-08-25T20:28:29.009200Z",
     "start_time": "2025-08-25T20:28:29.003040Z"
    }
   },
   "cell_type": "code",
   "source": [
    "# 8. always using comprehensions\n",
    "def matrix_product(a, b, n):\n",
    "    # matrix product of a and b of length n x n\n",
    "    return [\n",
    "        sum(a[n*i+k] * b[n*k+j] for k in range(n))\n",
    "        for i in range(n)\n",
    "        for j in range(n)\n",
    "    ]\n",
    "\n",
    "a = [1, 2, 3, 4, 5, 6, 7, 8, 9]\n",
    "b = [9, 8, 7, 6, 5, 4, 3, 2, 1]\n",
    "n = 3\n",
    "output_8 = matrix_product(a, b, n)\n",
    "output_8"
   ],
   "id": "ce939df89781a3c1",
   "outputs": [
    {
     "data": {
      "text/plain": [
       "[30, 24, 18, 84, 69, 54, 138, 114, 90]"
      ]
     },
     "execution_count": 218,
     "metadata": {},
     "output_type": "execute_result"
    }
   ],
   "execution_count": 218
  },
  {
   "metadata": {
    "ExecuteTime": {
     "end_time": "2025-08-25T20:28:29.099236Z",
     "start_time": "2025-08-25T20:28:29.091746Z"
    }
   },
   "cell_type": "code",
   "source": [
    "# use nested for loops instead\n",
    "def matrix_product_with_loops(a, b, n):\n",
    "    result = []\n",
    "    for i in range(n):\n",
    "        for j in range(n):\n",
    "            sum_product = 0\n",
    "            for k in range(n):\n",
    "                sum_product += a[n*i+k] * b[n*k+j]\n",
    "            result.append(sum_product)\n",
    "    return result\n",
    "\n",
    "a = [1, 2, 3, 4, 5, 6, 7, 8, 9]\n",
    "b = [9, 8, 7, 6, 5, 4, 3, 2, 1]\n",
    "n = 3\n",
    "output_8 = matrix_product_with_loops(a, b, n)\n",
    "output_8"
   ],
   "id": "50ef5b8119496308",
   "outputs": [
    {
     "data": {
      "text/plain": [
       "[30, 24, 18, 84, 69, 54, 138, 114, 90]"
      ]
     },
     "execution_count": 219,
     "metadata": {},
     "output_type": "execute_result"
    }
   ],
   "execution_count": 219
  },
  {
   "metadata": {
    "ExecuteTime": {
     "end_time": "2025-08-25T20:28:29.180367Z",
     "start_time": "2025-08-25T20:28:29.173672Z"
    }
   },
   "cell_type": "code",
   "source": [
    "# 9 don't check for type using ==\n",
    "from collections import namedtuple\n",
    "MyTuple = namedtuple(typename=\"MyTuple\", field_names=[\"a\", \"b\", \"c\"])\n",
    "\n",
    "def check_type_using_equals(value):\n",
    "    if type(value) == tuple:\n",
    "        return \"It's a tuple\"\n",
    "    elif type(value) == str:\n",
    "        return \"It's a string\"\n",
    "    else:\n",
    "        return \"Unknown type\"\n",
    "\n",
    "\n",
    "x = MyTuple(1, 2, 3)\n",
    "output_wrong_9 = check_type_using_equals(x)\n",
    "output_wrong_9"
   ],
   "id": "f8b258bd4d765776",
   "outputs": [
    {
     "data": {
      "text/plain": [
       "'Unknown type'"
      ]
     },
     "execution_count": 220,
     "metadata": {},
     "output_type": "execute_result"
    }
   ],
   "execution_count": 220
  },
  {
   "metadata": {
    "ExecuteTime": {
     "end_time": "2025-08-25T20:28:29.244490Z",
     "start_time": "2025-08-25T20:28:29.238478Z"
    }
   },
   "cell_type": "code",
   "source": [
    "# use isinstance instead\n",
    "def check_type_using_isinstance(value):\n",
    "    if isinstance(value, tuple):\n",
    "        return \"It's a tuple\"\n",
    "    elif isinstance(value, str):\n",
    "        return \"It's a string\"\n",
    "    else:\n",
    "        return \"Unknown type\"\n",
    "\n",
    "x = MyTuple(1, 2, 3)\n",
    "output_9 = check_type_using_isinstance(x)\n",
    "output_9"
   ],
   "id": "a0b79f809e6b7791",
   "outputs": [
    {
     "data": {
      "text/plain": [
       "\"It's a tuple\""
      ]
     },
     "execution_count": 221,
     "metadata": {},
     "output_type": "execute_result"
    }
   ],
   "execution_count": 221
  },
  {
   "metadata": {
    "ExecuteTime": {
     "end_time": "2025-08-25T20:28:29.322723Z",
     "start_time": "2025-08-25T20:28:29.316790Z"
    }
   },
   "cell_type": "code",
   "source": [
    "\n",
    "# 10. don't use == to check for None, or True, or False\n",
    "def check_for_none_using_equals(value):\n",
    "    if value == None:\n",
    "        return \"It's None\"\n",
    "    elif value == True:\n",
    "        return \"It's True\"\n",
    "    elif value == False:\n",
    "        return \"It's False\"\n",
    "    else:\n",
    "        return \"Unknown value\"\n",
    "\n",
    "output_wrong_10 = check_for_none_using_equals(None)\n",
    "output_wrong_10"
   ],
   "id": "8ca8db58818ab419",
   "outputs": [
    {
     "data": {
      "text/plain": [
       "\"It's None\""
      ]
     },
     "execution_count": 222,
     "metadata": {},
     "output_type": "execute_result"
    }
   ],
   "execution_count": 222
  },
  {
   "metadata": {
    "ExecuteTime": {
     "end_time": "2025-08-25T20:28:29.387462Z",
     "start_time": "2025-08-25T20:28:29.381605Z"
    }
   },
   "cell_type": "code",
   "source": [
    "output_wrong_10_bool = check_for_none_using_equals(True)\n",
    "output_wrong_10_bool\n"
   ],
   "id": "3a34f1103133acb4",
   "outputs": [
    {
     "data": {
      "text/plain": [
       "\"It's True\""
      ]
     },
     "execution_count": 223,
     "metadata": {},
     "output_type": "execute_result"
    }
   ],
   "execution_count": 223
  },
  {
   "metadata": {
    "ExecuteTime": {
     "end_time": "2025-08-25T20:28:29.454401Z",
     "start_time": "2025-08-25T20:28:29.447880Z"
    }
   },
   "cell_type": "code",
   "source": [
    "# use is or is not instead\n",
    "def check_for_none_using_is(value):\n",
    "    if value is None:\n",
    "        return \"It's None\"\n",
    "    elif value is True:\n",
    "        return \"It's True\"\n",
    "    elif value is False:\n",
    "        return \"It's False\"\n",
    "    else:\n",
    "        return \"Unknown value\"\n",
    "\n",
    "output_10 = check_for_none_using_is(None)\n",
    "output_10"
   ],
   "id": "1c0b5551f883a42a",
   "outputs": [
    {
     "data": {
      "text/plain": [
       "\"It's None\""
      ]
     },
     "execution_count": 224,
     "metadata": {},
     "output_type": "execute_result"
    }
   ],
   "execution_count": 224
  },
  {
   "metadata": {
    "ExecuteTime": {
     "end_time": "2025-08-25T20:28:29.524791Z",
     "start_time": "2025-08-25T20:28:29.517692Z"
    }
   },
   "cell_type": "code",
   "source": [
    "# 11. don't check for bool or len\n",
    "\n",
    "def check_for_bool_or_len(value):\n",
    "    if bool(value):\n",
    "        return \"It's True\"\n",
    "\n",
    "    if len(value) > 0:\n",
    "        return \"It's non-empty\"\n",
    "\n",
    "    return \"It's False or empty\"\n",
    "\n",
    "output_wrong_11 = check_for_bool_or_len([1, 2, 3])\n",
    "output_wrong_11"
   ],
   "id": "d7b21e193c7fd5f1",
   "outputs": [
    {
     "data": {
      "text/plain": [
       "\"It's True\""
      ]
     },
     "execution_count": 225,
     "metadata": {},
     "output_type": "execute_result"
    }
   ],
   "execution_count": 225
  },
  {
   "metadata": {
    "ExecuteTime": {
     "end_time": "2025-08-25T20:28:29.591543Z",
     "start_time": "2025-08-25T20:28:29.586565Z"
    }
   },
   "cell_type": "code",
   "source": [
    "output_wrong_11_el = check_for_bool_or_len([])\n",
    "output_wrong_11_el"
   ],
   "id": "348d2bfba9b7a778",
   "outputs": [
    {
     "data": {
      "text/plain": [
       "\"It's False or empty\""
      ]
     },
     "execution_count": 226,
     "metadata": {},
     "output_type": "execute_result"
    }
   ],
   "execution_count": 226
  },
  {
   "metadata": {
    "ExecuteTime": {
     "end_time": "2025-08-25T20:28:29.681268Z",
     "start_time": "2025-08-25T20:28:29.674691Z"
    }
   },
   "cell_type": "code",
   "source": [
    "# use implicit boolean context instead\n",
    "def check_for_bool_or_len_implicitly(value):\n",
    "    if value:\n",
    "        return \"It's True or non-empty\"\n",
    "    return \"It's False or empty\"\n",
    "\n",
    "output_11 = check_for_bool_or_len_implicitly([1, 2, 3])\n",
    "output_11\n"
   ],
   "id": "501384e1792804b8",
   "outputs": [
    {
     "data": {
      "text/plain": [
       "\"It's True or non-empty\""
      ]
     },
     "execution_count": 227,
     "metadata": {},
     "output_type": "execute_result"
    }
   ],
   "execution_count": 227
  },
  {
   "metadata": {
    "ExecuteTime": {
     "end_time": "2025-08-25T20:28:29.759915Z",
     "start_time": "2025-08-25T20:28:29.754408Z"
    }
   },
   "cell_type": "code",
   "source": [
    "# 12. don't use range len idiom\n",
    "def using_range_len_to_iterate_list(my_list):\n",
    "\n",
    "    for i in range(len(my_list)):\n",
    "        print(my_list[i])\n",
    "\n",
    "my_list = [1, 2, 3]\n",
    "using_range_len_to_iterate_list(my_list)"
   ],
   "id": "ffd8ad33e4d82777",
   "outputs": [
    {
     "name": "stdout",
     "output_type": "stream",
     "text": [
      "1\n",
      "2\n",
      "3\n"
     ]
    }
   ],
   "execution_count": 228
  },
  {
   "metadata": {
    "ExecuteTime": {
     "end_time": "2025-08-25T20:28:29.842914Z",
     "start_time": "2025-08-25T20:28:29.836838Z"
    }
   },
   "cell_type": "code",
   "source": [
    "# use direct iteration instead\n",
    "def using_direct_iteration_to_iterate_list(my_list):\n",
    "    for item in my_list:\n",
    "        print(item)\n",
    "\n",
    "my_list = [1, 2, 3]\n",
    "using_direct_iteration_to_iterate_list(my_list)"
   ],
   "id": "e49cacfcabd04a0d",
   "outputs": [
    {
     "name": "stdout",
     "output_type": "stream",
     "text": [
      "1\n",
      "2\n",
      "3\n"
     ]
    }
   ],
   "execution_count": 229
  },
  {
   "metadata": {
    "ExecuteTime": {
     "end_time": "2025-08-25T20:28:29.950989Z",
     "start_time": "2025-08-25T20:28:29.943832Z"
    }
   },
   "cell_type": "code",
   "source": [
    "# use enumerate to get index and value\n",
    "def using_enumerate_to_get_index_and_value(my_list):\n",
    "    for index, item in enumerate(my_list):\n",
    "        print(f\"Index: {index}, Value: {item}\")\n",
    "\n",
    "my_list = [1, 2, 3]\n",
    "using_enumerate_to_get_index_and_value(my_list)\n"
   ],
   "id": "e85477eb0c757d02",
   "outputs": [
    {
     "name": "stdout",
     "output_type": "stream",
     "text": [
      "Index: 0, Value: 1\n",
      "Index: 1, Value: 2\n",
      "Index: 2, Value: 3\n"
     ]
    }
   ],
   "execution_count": 230
  },
  {
   "metadata": {
    "ExecuteTime": {
     "end_time": "2025-08-25T20:28:30.089424Z",
     "start_time": "2025-08-25T20:28:30.082108Z"
    }
   },
   "cell_type": "code",
   "source": [
    "# use zip to iterate over multiple lists\n",
    "def using_zip_to_iterate_over_multiple_lists(list1, list2):\n",
    "    for id, (item1, item2) in enumerate(zip(list1, list2)):\n",
    "        print(f\"Index: {id}, List1 Value: {item1}, List2 Value: {item2}\")\n",
    "\n",
    "list1 = [1, 2, 3]\n",
    "list2 = ['a', 'b', 'c']\n",
    "using_zip_to_iterate_over_multiple_lists(list1, list2)\n"
   ],
   "id": "44993b0023b84df3",
   "outputs": [
    {
     "name": "stdout",
     "output_type": "stream",
     "text": [
      "Index: 0, List1 Value: 1, List2 Value: a\n",
      "Index: 1, List1 Value: 2, List2 Value: b\n",
      "Index: 2, List1 Value: 3, List2 Value: c\n"
     ]
    }
   ],
   "execution_count": 231
  },
  {
   "metadata": {
    "ExecuteTime": {
     "end_time": "2025-08-25T20:28:30.201454Z",
     "start_time": "2025-08-25T20:28:30.194937Z"
    }
   },
   "cell_type": "code",
   "source": [
    "# 13. don't iterate over dictionary keys to get values\n",
    "def iterating_over_dict_keys_to_get_values(my_dict):\n",
    "    for key in my_dict.keys():\n",
    "        print(f\"Key: {key}, Value: {my_dict[key]}\")\n",
    "\n",
    "my_dict = {'a': 1, 'b': 2, 'c': 3}\n",
    "iterating_over_dict_keys_to_get_values(my_dict)\n"
   ],
   "id": "b52c71c5ec53d1d9",
   "outputs": [
    {
     "name": "stdout",
     "output_type": "stream",
     "text": [
      "Key: a, Value: 1\n",
      "Key: b, Value: 2\n",
      "Key: c, Value: 3\n"
     ]
    }
   ],
   "execution_count": 232
  },
  {
   "metadata": {
    "ExecuteTime": {
     "end_time": "2025-08-25T20:28:30.308558Z",
     "start_time": "2025-08-25T20:28:30.303432Z"
    }
   },
   "cell_type": "code",
   "source": [
    "# use items() to get key and value\n",
    "def using_items_to_get_key_and_value(my_dict):\n",
    "    for key, value in my_dict.items():\n",
    "        print(f\"Key: {key}, Value: {value}\")\n",
    "\n",
    "my_dict = {'a': 1, 'b': 2, 'c': 3}\n",
    "using_items_to_get_key_and_value(my_dict)"
   ],
   "id": "48c469287e1763a2",
   "outputs": [
    {
     "name": "stdout",
     "output_type": "stream",
     "text": [
      "Key: a, Value: 1\n",
      "Key: b, Value: 2\n",
      "Key: c, Value: 3\n"
     ]
    }
   ],
   "execution_count": 233
  },
  {
   "metadata": {
    "ExecuteTime": {
     "end_time": "2025-08-25T20:28:30.396835Z",
     "start_time": "2025-08-25T20:28:30.391708Z"
    }
   },
   "cell_type": "code",
   "source": [
    "# use default for dict to get all keys\n",
    "def using_default_for_dict_to_get_all_keys(my_dict):\n",
    "    for key in my_dict:\n",
    "        print(f\"Key: {key}, Value: {my_dict[key]}\")\n",
    "\n",
    "my_dict = {'a': 1, 'b': 2, 'c': 3}\n",
    "using_default_for_dict_to_get_all_keys(my_dict)"
   ],
   "id": "5438dd0ecb8c86b",
   "outputs": [
    {
     "name": "stdout",
     "output_type": "stream",
     "text": [
      "Key: a, Value: 1\n",
      "Key: b, Value: 2\n",
      "Key: c, Value: 3\n"
     ]
    }
   ],
   "execution_count": 234
  },
  {
   "metadata": {
    "ExecuteTime": {
     "end_time": "2025-08-25T20:28:30.541809Z",
     "start_time": "2025-08-25T20:28:30.534104Z"
    }
   },
   "cell_type": "code",
   "source": [
    "\n",
    "# 14. don't use tuple unpacking\n",
    "def without_tuple_unpacking():\n",
    "    point = (1, 2)\n",
    "    x = point[0]\n",
    "    y = point[1]\n",
    "    return x, y\n",
    "\n",
    "x, y = without_tuple_unpacking()\n",
    "x, y"
   ],
   "id": "31150cfb5d1a8f68",
   "outputs": [
    {
     "data": {
      "text/plain": [
       "(1, 2)"
      ]
     },
     "execution_count": 235,
     "metadata": {},
     "output_type": "execute_result"
    }
   ],
   "execution_count": 235
  },
  {
   "metadata": {
    "ExecuteTime": {
     "end_time": "2025-08-25T20:28:30.635115Z",
     "start_time": "2025-08-25T20:28:30.628905Z"
    }
   },
   "cell_type": "code",
   "source": [
    "# use tuple unpacking instead\n",
    "def with_tuple_unpacking():\n",
    "    point = (1, 2)\n",
    "    x, y = point\n",
    "    return x, y\n",
    "\n",
    "x, y = with_tuple_unpacking()\n",
    "x, y\n"
   ],
   "id": "a7fe3d847399618a",
   "outputs": [
    {
     "data": {
      "text/plain": [
       "(1, 2)"
      ]
     },
     "execution_count": 236,
     "metadata": {},
     "output_type": "execute_result"
    }
   ],
   "execution_count": 236
  },
  {
   "metadata": {
    "ExecuteTime": {
     "end_time": "2025-08-25T20:28:30.699868Z",
     "start_time": "2025-08-25T20:28:30.694034Z"
    }
   },
   "cell_type": "code",
   "source": [
    "# 15. don't create counter variable in loops\n",
    "def using_counter_variable_in_loop(n):\n",
    "    total = 0\n",
    "    for i in range(n):\n",
    "        total += 1\n",
    "\n",
    "    return total\n",
    "\n",
    "output_wrong_15 = using_counter_variable_in_loop(5)\n",
    "output_wrong_15"
   ],
   "id": "64998cba6ef727d1",
   "outputs": [
    {
     "data": {
      "text/plain": [
       "5"
      ]
     },
     "execution_count": 237,
     "metadata": {},
     "output_type": "execute_result"
    }
   ],
   "execution_count": 237
  },
  {
   "metadata": {
    "ExecuteTime": {
     "end_time": "2025-08-25T20:28:30.783418Z",
     "start_time": "2025-08-25T20:28:30.778015Z"
    }
   },
   "cell_type": "code",
   "source": [
    "# use enumerate instead\n",
    "def using_enumerate_in_loop(n):\n",
    "    for v, _ in enumerate(range(n)):\n",
    "        pass\n",
    "    return v + 1  # since v is zero-indexed\n",
    "\n",
    "output_15 = using_enumerate_in_loop(5)\n",
    "output_15\n"
   ],
   "id": "cfacc80056c61f25",
   "outputs": [
    {
     "data": {
      "text/plain": [
       "5"
      ]
     },
     "execution_count": 238,
     "metadata": {},
     "output_type": "execute_result"
    }
   ],
   "execution_count": 238
  },
  {
   "metadata": {
    "ExecuteTime": {
     "end_time": "2025-08-25T20:28:30.876828Z",
     "start_time": "2025-08-25T20:28:30.837825Z"
    }
   },
   "cell_type": "code",
   "source": [
    "# 16. don't use time.time for measuring elapsed time\n",
    "import time\n",
    "def using_time_time_to_measure_elapsed_time():\n",
    "    start = time.time()\n",
    "    total = sum(range(1000000))\n",
    "    end = time.time()\n",
    "    elapsed = end - start\n",
    "    return elapsed, total\n",
    "\n",
    "elapsed_wrong_16, total_wrong_16 = using_time_time_to_measure_elapsed_time()\n",
    "elapsed_wrong_16, total_wrong_16"
   ],
   "id": "f98b2c6b88b1cc",
   "outputs": [
    {
     "data": {
      "text/plain": [
       "(0.03326106071472168, 499999500000)"
      ]
     },
     "execution_count": 239,
     "metadata": {},
     "output_type": "execute_result"
    }
   ],
   "execution_count": 239
  },
  {
   "metadata": {
    "ExecuteTime": {
     "end_time": "2025-08-25T20:28:30.954219Z",
     "start_time": "2025-08-25T20:28:30.912497Z"
    }
   },
   "cell_type": "code",
   "source": [
    "# use time.perf_counter instead\n",
    "def using_time_perf_counter_to_measure_elapsed_time():\n",
    "    start = time.perf_counter()\n",
    "    total = sum(range(1000000))\n",
    "    end = time.perf_counter()\n",
    "    elapsed = end - start\n",
    "    return elapsed, total\n",
    "\n",
    "elapsed_16, total_16 = using_time_perf_counter_to_measure_elapsed_time()\n",
    "round(elapsed_16, 5), total_16"
   ],
   "id": "7e6b8b92625ea545",
   "outputs": [
    {
     "data": {
      "text/plain": [
       "(0.03464, 499999500000)"
      ]
     },
     "execution_count": 240,
     "metadata": {},
     "output_type": "execute_result"
    }
   ],
   "execution_count": 240
  },
  {
   "metadata": {
    "ExecuteTime": {
     "end_time": "2025-08-25T20:28:30.993312Z",
     "start_time": "2025-08-25T20:28:30.987797Z"
    }
   },
   "cell_type": "code",
   "source": [
    "# 17. don't use print for logging\n",
    "def using_print_for_logging(message: str):\n",
    "    print(f\"LOG: {message}\")\n",
    "\n",
    "using_print_for_logging(\"This is a log message\")\n"
   ],
   "id": "dc0843d1301d989a",
   "outputs": [
    {
     "name": "stdout",
     "output_type": "stream",
     "text": [
      "LOG: This is a log message\n"
     ]
    }
   ],
   "execution_count": 241
  },
  {
   "metadata": {
    "ExecuteTime": {
     "end_time": "2025-08-25T20:28:31.066007Z",
     "start_time": "2025-08-25T20:28:31.059945Z"
    }
   },
   "cell_type": "code",
   "source": [
    "# use logging module instead\n",
    "import logging\n",
    "logging.basicConfig(level=logging.INFO)\n",
    "def using_logging_module_for_logging(message: str):\n",
    "    logging.info(message)\n",
    "\n",
    "using_logging_module_for_logging(\"This is a log message\")\n"
   ],
   "id": "91bdae1f4fa151d0",
   "outputs": [
    {
     "name": "stderr",
     "output_type": "stream",
     "text": [
      "INFO:root:This is a log message\n"
     ]
    }
   ],
   "execution_count": 242
  },
  {
   "metadata": {
    "ExecuteTime": {
     "end_time": "2025-08-25T20:28:31.169146Z",
     "start_time": "2025-08-25T20:28:31.131783Z"
    }
   },
   "cell_type": "code",
   "source": [
    "# 18. don't use shell=True with subprocess\n",
    "import subprocess\n",
    "def using_shell_true_with_subprocess(command: str):\n",
    "    result = subprocess.run(command, shell=True, capture_output=True, text=True)\n",
    "    return result.stdout\n",
    "\n",
    "output_wrong_18 = using_shell_true_with_subprocess(\"echo Hello, World!\")\n",
    "output_wrong_18\n"
   ],
   "id": "2402e45666fd1210",
   "outputs": [
    {
     "data": {
      "text/plain": [
       "'Hello, World!\\n'"
      ]
     },
     "execution_count": 243,
     "metadata": {},
     "output_type": "execute_result"
    }
   ],
   "execution_count": 243
  },
  {
   "metadata": {
    "ExecuteTime": {
     "end_time": "2025-08-25T20:28:31.206338Z",
     "start_time": "2025-08-25T20:28:31.201737Z"
    }
   },
   "cell_type": "code",
   "source": [
    "# use list of arguments instead\n",
    "def using_list_of_arguments_with_subprocess(command: list):\n",
    "    result = subprocess.run(command, capture_output=True)\n",
    "    return result.stdout\n",
    "\n",
    "# it doesn't work on Windows\n"
   ],
   "id": "6b1bb4a1681abc00",
   "outputs": [],
   "execution_count": 244
  },
  {
   "metadata": {
    "ExecuteTime": {
     "end_time": "2025-08-25T20:28:31.241799Z",
     "start_time": "2025-08-25T20:28:31.234895Z"
    }
   },
   "cell_type": "code",
   "source": [
    "# 19. not using numpy fo array operations\n",
    "def using_list_for_array_operations(size: int):\n",
    "    a = list(range(size))\n",
    "    b = list(range(size))\n",
    "    c = [a[i] + b[i] for i in range(size)]\n",
    "    return c\n",
    "\n",
    "output_wrong_19 = using_list_for_array_operations(5)\n",
    "output_wrong_19\n"
   ],
   "id": "f27cc0d87aa5818c",
   "outputs": [
    {
     "data": {
      "text/plain": [
       "[0, 2, 4, 6, 8]"
      ]
     },
     "execution_count": 245,
     "metadata": {},
     "output_type": "execute_result"
    }
   ],
   "execution_count": 245
  },
  {
   "metadata": {
    "ExecuteTime": {
     "end_time": "2025-08-25T20:28:31.307191Z",
     "start_time": "2025-08-25T20:28:31.301428Z"
    }
   },
   "cell_type": "code",
   "source": [
    "# use numpy instead\n",
    "import numpy as np\n",
    "def using_numpy_for_array_operations(size: int):\n",
    "    a = np.arange(size)\n",
    "    b = np.arange(size)\n",
    "    return a + b\n",
    "\n",
    "output_19 = using_numpy_for_array_operations(5)\n",
    "output_19\n"
   ],
   "id": "8c7170db68dea22d",
   "outputs": [
    {
     "data": {
      "text/plain": [
       "array([0, 2, 4, 6, 8])"
      ]
     },
     "execution_count": 246,
     "metadata": {},
     "output_type": "execute_result"
    }
   ],
   "execution_count": 246
  },
  {
   "metadata": {
    "ExecuteTime": {
     "end_time": "2025-08-25T20:28:31.364367Z",
     "start_time": "2025-08-25T20:28:31.359245Z"
    }
   },
   "cell_type": "code",
   "source": [
    "# 19. don't use * in the import statement\n",
    "from itertools import *\n",
    "def using_star_in_import_statement():\n",
    "    return count()\n",
    "\n",
    "counter = using_star_in_import_statement()\n",
    "next(counter)\n"
   ],
   "id": "38f194df73b4e1c1",
   "outputs": [
    {
     "data": {
      "text/plain": [
       "0"
      ]
     },
     "execution_count": 247,
     "metadata": {},
     "output_type": "execute_result"
    }
   ],
   "execution_count": 247
  },
  {
   "metadata": {
    "ExecuteTime": {
     "end_time": "2025-08-25T20:28:31.428345Z",
     "start_time": "2025-08-25T20:28:31.421232Z"
    }
   },
   "cell_type": "code",
   "source": [
    "# use explicit imports instead\n",
    "from itertools import count\n",
    "def using_explicit_imports():\n",
    "    return count()\n",
    "counter = using_explicit_imports()\n",
    "next(counter)\n"
   ],
   "id": "83f2225eef625f29",
   "outputs": [
    {
     "data": {
      "text/plain": [
       "0"
      ]
     },
     "execution_count": 248,
     "metadata": {},
     "output_type": "execute_result"
    }
   ],
   "execution_count": 248
  },
  {
   "metadata": {
    "ExecuteTime": {
     "end_time": "2025-08-25T20:28:31.493033Z",
     "start_time": "2025-08-25T20:28:31.486453Z"
    }
   },
   "cell_type": "code",
   "source": [
    "# 20. don't use mutable objects as keys in dictionaries\n",
    "def using_mutable_object_as_dict_key():\n",
    "    my_dict = {}\n",
    "    my_list = [1, 2, 3]\n",
    "    try:\n",
    "        my_dict[my_list] = \"This is a list\"\n",
    "    except TypeError as e:\n",
    "        return str(e)\n",
    "\n",
    "error_message = using_mutable_object_as_dict_key()\n",
    "error_message\n"
   ],
   "id": "55b16d904b980015",
   "outputs": [
    {
     "data": {
      "text/plain": [
       "\"unhashable type: 'list'\""
      ]
     },
     "execution_count": 249,
     "metadata": {},
     "output_type": "execute_result"
    }
   ],
   "execution_count": 249
  },
  {
   "metadata": {
    "ExecuteTime": {
     "end_time": "2025-08-25T20:28:31.554363Z",
     "start_time": "2025-08-25T20:28:31.549689Z"
    }
   },
   "cell_type": "code",
   "source": [
    "# 21. don't round manually in print statements\n",
    "def rounding_manually_in_print_statements(value: float):\n",
    "    print(\"The value is: \" + str(round(value, 2)))\n",
    "\n",
    "rounding_manually_in_print_statements(2.88849403)"
   ],
   "id": "101e77d8003a2266",
   "outputs": [
    {
     "name": "stdout",
     "output_type": "stream",
     "text": [
      "The value is: 2.89\n"
     ]
    }
   ],
   "execution_count": 250
  },
  {
   "metadata": {
    "ExecuteTime": {
     "end_time": "2025-08-25T20:28:31.622379Z",
     "start_time": "2025-08-25T20:28:31.617550Z"
    }
   },
   "cell_type": "code",
   "source": [
    "# use formatted string literals instead\n",
    "def rounding_with_f_string(value: float):\n",
    "    print(f\"The value is: {value:.2f}\")\n",
    "\n",
    "rounding_with_f_string(2.88849403)"
   ],
   "id": "5390761618e3bd87",
   "outputs": [
    {
     "name": "stdout",
     "output_type": "stream",
     "text": [
      "The value is: 2.89\n"
     ]
    }
   ],
   "execution_count": 251
  },
  {
   "metadata": {
    "ExecuteTime": {
     "end_time": "2025-08-25T20:28:31.695434Z",
     "start_time": "2025-08-25T20:28:31.688410Z"
    }
   },
   "cell_type": "code",
   "source": [
    "# 22. don't convert repeatedly to from numpy arrays\n",
    "def converting_repeatedly_to_from_numpy_arrays(size: int):\n",
    "    a = np.arange(size)\n",
    "    b = np.arange(size)\n",
    "    max1 = max(a)\n",
    "    max2 = max(b)\n",
    "    return max1 + max2\n",
    "\n",
    "output_wrong_22 = converting_repeatedly_to_from_numpy_arrays(5)\n",
    "output_wrong_22"
   ],
   "id": "49a494d728261d4",
   "outputs": [
    {
     "data": {
      "text/plain": [
       "np.int64(8)"
      ]
     },
     "execution_count": 252,
     "metadata": {},
     "output_type": "execute_result"
    }
   ],
   "execution_count": 252
  },
  {
   "metadata": {
    "ExecuteTime": {
     "end_time": "2025-08-25T20:28:31.769377Z",
     "start_time": "2025-08-25T20:28:31.763771Z"
    }
   },
   "cell_type": "code",
   "source": [
    "# use numpy functions instead\n",
    "def using_numpy_functions(size: int):\n",
    "    a = np.arange(size)\n",
    "    b = np.arange(size)\n",
    "    return np.max(a) + np.max(b)\n",
    "\n",
    "output_22 = using_numpy_functions(5)\n",
    "output_22\n",
    "\n"
   ],
   "id": "cdc6631e7610b5e9",
   "outputs": [
    {
     "data": {
      "text/plain": [
       "np.int64(8)"
      ]
     },
     "execution_count": 253,
     "metadata": {},
     "output_type": "execute_result"
    }
   ],
   "execution_count": 253
  },
  {
   "metadata": {
    "ExecuteTime": {
     "end_time": "2025-08-25T20:28:31.854858Z",
     "start_time": "2025-08-25T20:28:31.847262Z"
    }
   },
   "cell_type": "code",
   "source": [
    "# 23. dont' manipulate paths as strings\n",
    "def manipulating_paths_as_strings(dir_name: str, file_name: str):\n",
    "    full_path = dir_name + \"/\" + file_name\n",
    "    return full_path\n",
    "\n",
    "path = manipulating_paths_as_strings(\"my_dir\", \"my_file.txt\")\n",
    "path\n"
   ],
   "id": "dd3cc1a45a11c4dd",
   "outputs": [
    {
     "data": {
      "text/plain": [
       "'my_dir/my_file.txt'"
      ]
     },
     "execution_count": 254,
     "metadata": {},
     "output_type": "execute_result"
    }
   ],
   "execution_count": 254
  },
  {
   "metadata": {
    "ExecuteTime": {
     "end_time": "2025-08-25T20:28:31.911999Z",
     "start_time": "2025-08-25T20:28:31.905142Z"
    }
   },
   "cell_type": "code",
   "source": [
    "# instead use pathlib\n",
    "from pathlib import Path\n",
    "def using_pathlib(dir_name: str, file_name: str):\n",
    "    path = Path(dir_name).joinpath(file_name)\n",
    "    data_dir = path.parent\n",
    "    return path, data_dir, path.with_name(\"test.txt\"), data_dir.joinpath(\"abc\", \"def\")\n",
    "\n",
    "paths_data = using_pathlib(\"my_dir\", \"my_file.txt\")\n",
    "paths_data\n"
   ],
   "id": "9db9f073e16ea6c3",
   "outputs": [
    {
     "data": {
      "text/plain": [
       "(WindowsPath('my_dir/my_file.txt'),\n",
       " WindowsPath('my_dir'),\n",
       " WindowsPath('my_dir/test.txt'),\n",
       " WindowsPath('my_dir/abc/def'))"
      ]
     },
     "execution_count": 255,
     "metadata": {},
     "output_type": "execute_result"
    }
   ],
   "execution_count": 255
  },
  {
   "metadata": {
    "ExecuteTime": {
     "end_time": "2025-08-25T20:28:31.975089Z",
     "start_time": "2025-08-25T20:28:31.969077Z"
    }
   },
   "cell_type": "code",
   "source": [
    "# 24. don't concatenate strings in a loop with plus\n",
    "def concatenating_strings_in_loop_with_plus(n: int):\n",
    "    result = \"\"\n",
    "    for i in range(n):\n",
    "        result += str(i)\n",
    "    return result\n",
    "\n",
    "output_wrong_24 = concatenating_strings_in_loop_with_plus(5)\n",
    "output_wrong_24\n"
   ],
   "id": "33f23694c21dba7e",
   "outputs": [
    {
     "data": {
      "text/plain": [
       "'01234'"
      ]
     },
     "execution_count": 256,
     "metadata": {},
     "output_type": "execute_result"
    }
   ],
   "execution_count": 256
  },
  {
   "metadata": {
    "ExecuteTime": {
     "end_time": "2025-08-25T20:28:32.044064Z",
     "start_time": "2025-08-25T20:28:32.037650Z"
    }
   },
   "cell_type": "code",
   "source": [
    "# use StringIO instead\n",
    "from io import StringIO\n",
    "def using_stringio_to_concatenate_strings(n: int):\n",
    "    string_io = StringIO()\n",
    "    for i in range(n):\n",
    "        string_io.write(str(i))\n",
    "    return string_io.getvalue()\n",
    "\n",
    "output_24 = using_stringio_to_concatenate_strings(5)\n",
    "output_24\n"
   ],
   "id": "aa46464429a5950a",
   "outputs": [
    {
     "data": {
      "text/plain": [
       "'01234'"
      ]
     },
     "execution_count": 257,
     "metadata": {},
     "output_type": "execute_result"
    }
   ],
   "execution_count": 257
  },
  {
   "metadata": {
    "ExecuteTime": {
     "end_time": "2025-08-25T20:28:32.107069Z",
     "start_time": "2025-08-25T20:28:32.100890Z"
    }
   },
   "cell_type": "code",
   "source": [
    "# 25. don't use eval for parsing expressions\n",
    "def using_eval_to_parse_expression(expr: dict):\n",
    "    try:\n",
    "        result = eval(expr)\n",
    "    except Exception as e:\n",
    "        print(f\"Error: {e}\")\n",
    "    return result, type(result)\n",
    "\n",
    "output_wrong_25 = using_eval_to_parse_expression(\"{'a': 1, 'b': 2}\")\n",
    "output_wrong_25"
   ],
   "id": "caf42be624d98e22",
   "outputs": [
    {
     "data": {
      "text/plain": [
       "({'a': 1, 'b': 2}, dict)"
      ]
     },
     "execution_count": 258,
     "metadata": {},
     "output_type": "execute_result"
    }
   ],
   "execution_count": 258
  },
  {
   "metadata": {
    "ExecuteTime": {
     "end_time": "2025-08-25T20:28:32.171350Z",
     "start_time": "2025-08-25T20:28:32.164430Z"
    }
   },
   "cell_type": "code",
   "source": [
    "# use parsing library instead e.g. json\n",
    "import json\n",
    "def using_json_to_parse_expression(expr: str):\n",
    "    try:\n",
    "        result = json.loads(expr)\n",
    "    except json.JSONDecodeError as e:\n",
    "        print(f\"Error: {e}\")\n",
    "    return result, type(result)\n",
    "\n",
    "output_25 = using_json_to_parse_expression('{\"a\": 1, \"b\": 2}')\n",
    "output_25"
   ],
   "id": "a84bbb047782d724",
   "outputs": [
    {
     "data": {
      "text/plain": [
       "({'a': 1, 'b': 2}, dict)"
      ]
     },
     "execution_count": 259,
     "metadata": {},
     "output_type": "execute_result"
    }
   ],
   "execution_count": 259
  },
  {
   "metadata": {
    "ExecuteTime": {
     "end_time": "2025-08-25T20:28:32.253704Z",
     "start_time": "2025-08-25T20:28:32.246196Z"
    }
   },
   "cell_type": "code",
   "source": [
    "# 26. don't use global variables to control function behavior\n",
    "GLOBAL_FLAG = True\n",
    "def function_behavior_controlled_by_global_variable():\n",
    "    if GLOBAL_FLAG:\n",
    "        return \"Behavior A\"\n",
    "    else:\n",
    "        return \"Behavior B\"\n",
    "\n",
    "output_wrong_26 = function_behavior_controlled_by_global_variable()\n",
    "output_wrong_26\n"
   ],
   "id": "d6ded311512c3353",
   "outputs": [
    {
     "data": {
      "text/plain": [
       "'Behavior A'"
      ]
     },
     "execution_count": 260,
     "metadata": {},
     "output_type": "execute_result"
    }
   ],
   "execution_count": 260
  },
  {
   "metadata": {
    "ExecuteTime": {
     "end_time": "2025-08-25T20:28:32.314022Z",
     "start_time": "2025-08-25T20:28:32.306934Z"
    }
   },
   "cell_type": "code",
   "source": [
    "# use function parameters instead\n",
    "def function_behavior_controlled_by_parameter(flag: bool):\n",
    "    if flag:\n",
    "        return \"Behavior A\"\n",
    "    else:\n",
    "        return \"Behavior B\"\n",
    "\n",
    "output_26 = function_behavior_controlled_by_parameter(False)\n",
    "output_26\n"
   ],
   "id": "103fe124fed30a1",
   "outputs": [
    {
     "data": {
      "text/plain": [
       "'Behavior B'"
      ]
     },
     "execution_count": 261,
     "metadata": {},
     "output_type": "execute_result"
    }
   ],
   "execution_count": 261
  },
  {
   "metadata": {
    "ExecuteTime": {
     "end_time": "2025-08-25T20:28:32.380486Z",
     "start_time": "2025-08-25T20:28:32.372779Z"
    }
   },
   "cell_type": "code",
   "source": [
    "# 27. don't use and or for return boolean expressions\n",
    "\n",
    "def using_and_or_for_returning_boolean_expressions(a, b) -> tuple[bool, bool]:\n",
    "    \"\"\"\n",
    "    and first false or last true\n",
    "    or first true or last false\n",
    "    \"\"\"\n",
    "    return (a and b, a or b)\n",
    "\n",
    "output_wrong_27_and, output_wrong_27_or = using_and_or_for_returning_boolean_expressions([], {})\n",
    "output_wrong_27_and, output_wrong_27_or\n"
   ],
   "id": "50a9db2a3feb2486",
   "outputs": [
    {
     "data": {
      "text/plain": [
       "([], {})"
      ]
     },
     "execution_count": 262,
     "metadata": {},
     "output_type": "execute_result"
    }
   ],
   "execution_count": 262
  },
  {
   "metadata": {
    "ExecuteTime": {
     "end_time": "2025-08-25T20:28:32.440595Z",
     "start_time": "2025-08-25T20:28:32.433051Z"
    }
   },
   "cell_type": "code",
   "source": [
    "# 28. don't use single letter variable names\n",
    "def using_single_letter_variable_names(n: int) -> int:\n",
    "    s = 0\n",
    "    for i in range(n):\n",
    "        s += i\n",
    "    return s\n",
    "\n",
    "output_wrong_28 = using_single_letter_variable_names(5)\n",
    "output_wrong_28\n"
   ],
   "id": "daf1ac34199d32b4",
   "outputs": [
    {
     "data": {
      "text/plain": [
       "10"
      ]
     },
     "execution_count": 263,
     "metadata": {},
     "output_type": "execute_result"
    }
   ],
   "execution_count": 263
  },
  {
   "metadata": {
    "ExecuteTime": {
     "end_time": "2025-08-25T20:28:32.500119Z",
     "start_time": "2025-08-25T20:28:32.494893Z"
    }
   },
   "cell_type": "code",
   "source": [
    "# use descriptive variable names instead\n",
    "def using_descriptive_variable_names(n: int) -> int:\n",
    "    total_sum = 0\n",
    "    for number in range(n):\n",
    "        total_sum += number\n",
    "    return total_sum\n",
    "\n",
    "output_28 = using_descriptive_variable_names(5)\n",
    "output_28\n"
   ],
   "id": "18be831506e1978",
   "outputs": [
    {
     "data": {
      "text/plain": [
       "10"
      ]
     },
     "execution_count": 264,
     "metadata": {},
     "output_type": "execute_result"
    }
   ],
   "execution_count": 264
  },
  {
   "metadata": {
    "ExecuteTime": {
     "end_time": "2025-08-25T20:28:32.582737Z",
     "start_time": "2025-08-25T20:28:32.577147Z"
    }
   },
   "cell_type": "code",
   "source": [
    "# 29. don't use div and mod for divmod operation\n",
    "def using_div_and_mod_for_divmod_operation(a: int, b: int) -> tuple[int, int]:\n",
    "    quotient = a // b\n",
    "    remainder = a % b\n",
    "    return quotient, remainder\n",
    "\n",
    "output_wrong_29 = using_div_and_mod_for_divmod_operation(10, 3)\n",
    "output_wrong_29\n"
   ],
   "id": "b4b6331b3d30fd6e",
   "outputs": [
    {
     "data": {
      "text/plain": [
       "(3, 1)"
      ]
     },
     "execution_count": 265,
     "metadata": {},
     "output_type": "execute_result"
    }
   ],
   "execution_count": 265
  },
  {
   "metadata": {
    "ExecuteTime": {
     "end_time": "2025-08-25T20:28:32.654980Z",
     "start_time": "2025-08-25T20:28:32.648902Z"
    }
   },
   "cell_type": "code",
   "source": [
    "# use divmod instead\n",
    "def using_divmod_function(a: int, b: int) -> tuple[int, int]:\n",
    "    return divmod(a, b)\n",
    "\n",
    "output_29 = using_divmod_function(10, 3)\n",
    "output_29\n"
   ],
   "id": "65ec95ee6155ef14",
   "outputs": [
    {
     "data": {
      "text/plain": [
       "(3, 1)"
      ]
     },
     "execution_count": 266,
     "metadata": {},
     "output_type": "execute_result"
    }
   ],
   "execution_count": 266
  },
  {
   "metadata": {
    "ExecuteTime": {
     "end_time": "2025-08-25T20:28:32.718813Z",
     "start_time": "2025-08-25T20:28:32.712127Z"
    }
   },
   "cell_type": "code",
   "source": [
    "# 30. don't use JavaLike getters and setters\n",
    "class JavaLike:\n",
    "    def __init__(self, value: int):\n",
    "        self._value = value\n",
    "    def get_value(self) -> int:\n",
    "        return self._value\n",
    "    def set_value(self, value: int):\n",
    "        self._value = value\n",
    "\n",
    "obj = JavaLike(10)\n",
    "value_wrong_30 = obj.get_value()\n",
    "value_wrong_30\n"
   ],
   "id": "a816b5ae92f07a3a",
   "outputs": [
    {
     "data": {
      "text/plain": [
       "10"
      ]
     },
     "execution_count": 267,
     "metadata": {},
     "output_type": "execute_result"
    }
   ],
   "execution_count": 267
  },
  {
   "metadata": {
    "ExecuteTime": {
     "end_time": "2025-08-25T20:28:32.775832Z",
     "start_time": "2025-08-25T20:28:32.770415Z"
    }
   },
   "cell_type": "code",
   "source": [
    "# use Python properties instead\n",
    "class Pythonic:\n",
    "    def __init__(self, value: int):\n",
    "        self._value = value\n",
    "\n",
    "    @property\n",
    "    def value(self) -> int:\n",
    "        return self._value\n",
    "\n",
    "    @value.setter\n",
    "    def value(self, value: int):\n",
    "        self._value = value\n",
    "\n",
    "obj = Pythonic(10)\n",
    "value_30 = obj.value\n",
    "value_30\n"
   ],
   "id": "3c2fd17f2c4ba83f",
   "outputs": [
    {
     "data": {
      "text/plain": [
       "10"
      ]
     },
     "execution_count": 268,
     "metadata": {},
     "output_type": "execute_result"
    }
   ],
   "execution_count": 268
  },
  {
   "metadata": {
    "ExecuteTime": {
     "end_time": "2025-08-25T20:28:32.869613Z",
     "start_time": "2025-08-25T20:28:32.864540Z"
    }
   },
   "cell_type": "code",
   "source": [
    "# 31. don't insert or delete while iterating\n",
    "def inserting_while_iterating(my_list: list[int]) -> list[int]:\n",
    "    for i in my_list:\n",
    "        if i == 2:\n",
    "            my_list.append(4)\n",
    "\n",
    "    return my_list\n",
    "\n",
    "output_wrong_31 = inserting_while_iterating([1, 2, 3])\n",
    "output_wrong_31\n"
   ],
   "id": "573e6ce604c5827a",
   "outputs": [
    {
     "data": {
      "text/plain": [
       "[1, 2, 3, 4]"
      ]
     },
     "execution_count": 269,
     "metadata": {},
     "output_type": "execute_result"
    }
   ],
   "execution_count": 269
  }
 ],
 "metadata": {
  "kernelspec": {
   "name": "python3",
   "language": "python",
   "display_name": "Python 3 (ipykernel)"
  }
 },
 "nbformat": 4,
 "nbformat_minor": 5
}
