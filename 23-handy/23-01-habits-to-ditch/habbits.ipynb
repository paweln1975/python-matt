{
 "cells": [
  {
   "metadata": {
    "ExecuteTime": {
     "end_time": "2025-08-30T13:15:35.885883Z",
     "start_time": "2025-08-30T13:15:35.872573Z"
    }
   },
   "cell_type": "code",
   "source": "# 1. don't do manual formating",
   "id": "4ffffdd98862da3",
   "outputs": [],
   "execution_count": 1
  },
  {
   "metadata": {
    "ExecuteTime": {
     "end_time": "2025-08-30T13:15:35.928140Z",
     "start_time": "2025-08-30T13:15:35.922487Z"
    }
   },
   "cell_type": "code",
   "source": [
    "def print_params(param1: str, param2: str) -> str:\n",
    "    print(\"This is first parameter:\" + param1 + \" and this is second parameter:\" + param2)\n",
    "\n",
    "print_params(\"param1\", \"param2\")\n"
   ],
   "id": "a2d8eba269e6f921",
   "outputs": [
    {
     "name": "stdout",
     "output_type": "stream",
     "text": [
      "This is first parameter:param1 and this is second parameter:param2\n"
     ]
    }
   ],
   "execution_count": 2
  },
  {
   "metadata": {
    "ExecuteTime": {
     "end_time": "2025-08-30T13:15:36.061484Z",
     "start_time": "2025-08-30T13:15:36.054780Z"
    }
   },
   "cell_type": "code",
   "source": [
    "# instead use f-strings\n",
    "def print_params_with_f_string(param1: str, param2: str) -> str:\n",
    "    print(f\"This is first parameter: {param1} and this is second parameter: {param2}\")\n",
    "print_params_with_f_string(\"param1\", \"param2\")"
   ],
   "id": "7e7bea9aeee77b22",
   "outputs": [
    {
     "name": "stdout",
     "output_type": "stream",
     "text": [
      "This is first parameter: param1 and this is second parameter: param2\n"
     ]
    }
   ],
   "execution_count": 3
  },
  {
   "metadata": {
    "ExecuteTime": {
     "end_time": "2025-08-30T13:15:36.173814Z",
     "start_time": "2025-08-30T13:15:36.169140Z"
    }
   },
   "cell_type": "code",
   "source": [
    "import os\n",
    "def display_file_content_and_remove_file(file_path: str):\n",
    "    with open(file_path, 'r') as file:\n",
    "        content = file.read()\n",
    "        print(content)\n",
    "\n",
    "    os.remove(file_path)"
   ],
   "id": "ca2cf0300fb2cafd",
   "outputs": [],
   "execution_count": 4
  },
  {
   "metadata": {
    "ExecuteTime": {
     "end_time": "2025-08-30T13:15:36.262884Z",
     "start_time": "2025-08-30T13:15:36.244341Z"
    }
   },
   "cell_type": "code",
   "source": [
    "# 2. don't close the file manually\n",
    "def closing_file_manually(file_path: str):\n",
    "    file = open(file_path, 'w')\n",
    "    file.write(\"Hello, World!\")\n",
    "    file.close()\n",
    "\n",
    "closing_file_manually(\"test.txt\")\n",
    "display_file_content_and_remove_file(\"test.txt\")"
   ],
   "id": "cc4ab57822762279",
   "outputs": [
    {
     "name": "stdout",
     "output_type": "stream",
     "text": [
      "Hello, World!\n"
     ]
    }
   ],
   "execution_count": 5
  },
  {
   "metadata": {
    "ExecuteTime": {
     "end_time": "2025-08-30T13:15:36.492739Z",
     "start_time": "2025-08-30T13:15:36.472637Z"
    }
   },
   "cell_type": "code",
   "source": [
    "# use with statement instead\n",
    "def using_with_statement(file_path: str):\n",
    "    with open(file_path, 'w') as file:\n",
    "        file.write(\"Hello, World!\")\n",
    "\n",
    "using_with_statement(\"test.txt\")\n",
    "display_file_content_and_remove_file(\"test.txt\")"
   ],
   "id": "d049aa5387dc940e",
   "outputs": [
    {
     "name": "stdout",
     "output_type": "stream",
     "text": [
      "Hello, World!\n"
     ]
    }
   ],
   "execution_count": 6
  },
  {
   "metadata": {
    "ExecuteTime": {
     "end_time": "2025-08-30T13:15:36.621926Z",
     "start_time": "2025-08-30T13:15:36.603397Z"
    }
   },
   "cell_type": "code",
   "source": [
    "# 3. don't use finally instead of context manager\n",
    "def using_finally_instead_of_context_manager(file_path: str):\n",
    "    file = open(file_path, 'w')\n",
    "    try:\n",
    "        file.write(\"Hello, World!\")\n",
    "    finally:\n",
    "        file.close()\n",
    "\n",
    "using_finally_instead_of_context_manager(\"test.txt\")\n",
    "display_file_content_and_remove_file(\"test.txt\")"
   ],
   "id": "ab94704ca823c71d",
   "outputs": [
    {
     "name": "stdout",
     "output_type": "stream",
     "text": [
      "Hello, World!\n"
     ]
    }
   ],
   "execution_count": 7
  },
  {
   "metadata": {
    "ExecuteTime": {
     "end_time": "2025-08-30T13:15:36.948303Z",
     "start_time": "2025-08-30T13:15:36.932399Z"
    }
   },
   "cell_type": "code",
   "source": [
    "# use with statement instead\n",
    "def using_with_statement_instead_of_finally(file_path: str):\n",
    "    with open(file_path, 'w') as file:\n",
    "        file.write(\"Hello, World!\")\n",
    "\n",
    "using_with_statement_instead_of_finally(\"test.txt\")\n",
    "display_file_content_and_remove_file(\"test.txt\")"
   ],
   "id": "13ad1891934fc1a4",
   "outputs": [
    {
     "name": "stdout",
     "output_type": "stream",
     "text": [
      "Hello, World!\n"
     ]
    }
   ],
   "execution_count": 8
  },
  {
   "metadata": {
    "ExecuteTime": {
     "end_time": "2025-08-30T13:15:37.127832Z",
     "start_time": "2025-08-30T13:15:37.122493Z"
    }
   },
   "cell_type": "code",
   "source": [
    "# 4. don't use bare except\n",
    "def using_bare_except():\n",
    "    try:\n",
    "        x = \"a1\"\n",
    "        int(x)\n",
    "    except:\n",
    "        print(\"An error occurred\")\n",
    "\n",
    "using_bare_except()"
   ],
   "id": "1f089460534cb008",
   "outputs": [
    {
     "name": "stdout",
     "output_type": "stream",
     "text": [
      "An error occurred\n"
     ]
    }
   ],
   "execution_count": 9
  },
  {
   "metadata": {
    "ExecuteTime": {
     "end_time": "2025-08-30T13:15:37.302459Z",
     "start_time": "2025-08-30T13:15:37.298045Z"
    }
   },
   "cell_type": "code",
   "source": [
    "# use specific exception instead\n",
    "def using_specific_exception():\n",
    "    try:\n",
    "        x = \"a1\"\n",
    "        int(x)\n",
    "    except ValueError as ex:\n",
    "        print(f\"A ValueError occurred: {ex}\")\n",
    "\n",
    "using_specific_exception()"
   ],
   "id": "d48b2b8f45fecc43",
   "outputs": [
    {
     "name": "stdout",
     "output_type": "stream",
     "text": [
      "A ValueError occurred: invalid literal for int() with base 10: 'a1'\n"
     ]
    }
   ],
   "execution_count": 10
  },
  {
   "metadata": {
    "ExecuteTime": {
     "end_time": "2025-08-30T13:15:37.420016Z",
     "start_time": "2025-08-30T13:15:37.413096Z"
    }
   },
   "cell_type": "code",
   "source": [
    "# 5. don't use carret operator for exponentiation\n",
    "def using_caret_operator_for_exponentiation(base: int, exponent: int) -> int:\n",
    "    return base ^ exponent  # This is a bitwise XOR, not exponentiation\n",
    "\n",
    "exp2to3_wrong = using_caret_operator_for_exponentiation(2, 3)\n",
    "exp2to3_wrong"
   ],
   "id": "b6bc5443eb8064a1",
   "outputs": [
    {
     "data": {
      "text/plain": [
       "1"
      ]
     },
     "execution_count": 11,
     "metadata": {},
     "output_type": "execute_result"
    }
   ],
   "execution_count": 11
  },
  {
   "metadata": {
    "ExecuteTime": {
     "end_time": "2025-08-30T13:15:37.588529Z",
     "start_time": "2025-08-30T13:15:37.581699Z"
    }
   },
   "cell_type": "code",
   "source": [
    "# use ** operator instead\n",
    "def using_double_asterisk_for_exponentiation(base: int, exponent: int) -> int:\n",
    "    return base ** exponent\n",
    "\n",
    "exp2to3_pass = using_double_asterisk_for_exponentiation(2, 3)\n",
    "exp2to3_pass"
   ],
   "id": "d7da6dcd94051450",
   "outputs": [
    {
     "data": {
      "text/plain": [
       "8"
      ]
     },
     "execution_count": 12,
     "metadata": {},
     "output_type": "execute_result"
    }
   ],
   "execution_count": 12
  },
  {
   "metadata": {
    "ExecuteTime": {
     "end_time": "2025-08-30T13:15:37.720364Z",
     "start_time": "2025-08-30T13:15:37.714136Z"
    }
   },
   "cell_type": "code",
   "source": [
    "# 6. don't use mutable default arguments\n",
    "def append_to_list(value, my_list=[]):\n",
    "    my_list.append(value)\n",
    "    return my_list\n",
    "\n",
    "list1_wrong = append_to_list(1)\n",
    "list1_wrong"
   ],
   "id": "66a4153d5d37e7d4",
   "outputs": [
    {
     "data": {
      "text/plain": [
       "[1]"
      ]
     },
     "execution_count": 13,
     "metadata": {},
     "output_type": "execute_result"
    }
   ],
   "execution_count": 13
  },
  {
   "metadata": {
    "ExecuteTime": {
     "end_time": "2025-08-30T13:15:37.823550Z",
     "start_time": "2025-08-30T13:15:37.818776Z"
    }
   },
   "cell_type": "code",
   "source": [
    "\n",
    "list2_wrong = append_to_list(2)\n",
    "list2_wrong"
   ],
   "id": "5d90820294b01f41",
   "outputs": [
    {
     "data": {
      "text/plain": [
       "[1, 2]"
      ]
     },
     "execution_count": 14,
     "metadata": {},
     "output_type": "execute_result"
    }
   ],
   "execution_count": 14
  },
  {
   "metadata": {
    "ExecuteTime": {
     "end_time": "2025-08-30T13:15:37.944588Z",
     "start_time": "2025-08-30T13:15:37.939364Z"
    }
   },
   "cell_type": "code",
   "source": [
    "# use None as default value instead\n",
    "def append_to_list_safe(value, my_list=None):\n",
    "    if my_list is None:\n",
    "        my_list = []\n",
    "    my_list.append(value)\n",
    "    return my_list\n",
    "\n",
    "list1 = append_to_list_safe(1)\n",
    "list1"
   ],
   "id": "e0d0455fe694c453",
   "outputs": [
    {
     "data": {
      "text/plain": [
       "[1]"
      ]
     },
     "execution_count": 15,
     "metadata": {},
     "output_type": "execute_result"
    }
   ],
   "execution_count": 15
  },
  {
   "metadata": {
    "ExecuteTime": {
     "end_time": "2025-08-30T13:15:38.031134Z",
     "start_time": "2025-08-30T13:15:38.025048Z"
    }
   },
   "cell_type": "code",
   "source": [
    "\n",
    "list2 = append_to_list_safe(2)\n",
    "list2"
   ],
   "id": "70084c5866f23a8c",
   "outputs": [
    {
     "data": {
      "text/plain": [
       "[2]"
      ]
     },
     "execution_count": 16,
     "metadata": {},
     "output_type": "execute_result"
    }
   ],
   "execution_count": 16
  },
  {
   "metadata": {
    "ExecuteTime": {
     "end_time": "2025-08-30T13:15:38.169642Z",
     "start_time": "2025-08-30T13:15:38.163113Z"
    }
   },
   "cell_type": "code",
   "source": [
    "# 7. never using comprehensions\n",
    "def using_for_loop_to_square_numbers(numbers):\n",
    "    squared_numbers = []\n",
    "    for number in numbers:\n",
    "        squared_numbers.append(number ** 2)\n",
    "    return squared_numbers\n",
    "\n",
    "output_7 = using_for_loop_to_square_numbers([1, 2, 3, 4, 5])\n",
    "output_7"
   ],
   "id": "2bd69c3875f4bf1",
   "outputs": [
    {
     "data": {
      "text/plain": [
       "[1, 4, 9, 16, 25]"
      ]
     },
     "execution_count": 17,
     "metadata": {},
     "output_type": "execute_result"
    }
   ],
   "execution_count": 17
  },
  {
   "metadata": {
    "ExecuteTime": {
     "end_time": "2025-08-30T13:15:38.292636Z",
     "start_time": "2025-08-30T13:15:38.285972Z"
    }
   },
   "cell_type": "code",
   "source": [
    "# use list comprehensions instead\n",
    "def using_list_comprehension_to_square_numbers(numbers):\n",
    "    return [number ** 2 for number in numbers]\n",
    "\n",
    "output_7 = using_list_comprehension_to_square_numbers([1, 2, 3, 4, 5])\n",
    "output_7"
   ],
   "id": "1d2679a66a03fe00",
   "outputs": [
    {
     "data": {
      "text/plain": [
       "[1, 4, 9, 16, 25]"
      ]
     },
     "execution_count": 18,
     "metadata": {},
     "output_type": "execute_result"
    }
   ],
   "execution_count": 18
  },
  {
   "metadata": {
    "ExecuteTime": {
     "end_time": "2025-08-30T13:15:38.398750Z",
     "start_time": "2025-08-30T13:15:38.390636Z"
    }
   },
   "cell_type": "code",
   "source": [
    "# 8. always using comprehensions\n",
    "def matrix_product(a, b, n):\n",
    "    # matrix product of a and b of length n x n\n",
    "    return [\n",
    "        sum(a[n*i+k] * b[n*k+j] for k in range(n))\n",
    "        for i in range(n)\n",
    "        for j in range(n)\n",
    "    ]\n",
    "\n",
    "a = [1, 2, 3, 4, 5, 6, 7, 8, 9]\n",
    "b = [9, 8, 7, 6, 5, 4, 3, 2, 1]\n",
    "n = 3\n",
    "output_8 = matrix_product(a, b, n)\n",
    "output_8"
   ],
   "id": "ce939df89781a3c1",
   "outputs": [
    {
     "data": {
      "text/plain": [
       "[30, 24, 18, 84, 69, 54, 138, 114, 90]"
      ]
     },
     "execution_count": 19,
     "metadata": {},
     "output_type": "execute_result"
    }
   ],
   "execution_count": 19
  },
  {
   "metadata": {
    "ExecuteTime": {
     "end_time": "2025-08-30T13:15:38.517764Z",
     "start_time": "2025-08-30T13:15:38.509678Z"
    }
   },
   "cell_type": "code",
   "source": [
    "# use nested for loops instead\n",
    "def matrix_product_with_loops(a, b, n):\n",
    "    result = []\n",
    "    for i in range(n):\n",
    "        for j in range(n):\n",
    "            sum_product = 0\n",
    "            for k in range(n):\n",
    "                sum_product += a[n*i+k] * b[n*k+j]\n",
    "            result.append(sum_product)\n",
    "    return result\n",
    "\n",
    "a = [1, 2, 3, 4, 5, 6, 7, 8, 9]\n",
    "b = [9, 8, 7, 6, 5, 4, 3, 2, 1]\n",
    "n = 3\n",
    "output_8 = matrix_product_with_loops(a, b, n)\n",
    "output_8"
   ],
   "id": "50ef5b8119496308",
   "outputs": [
    {
     "data": {
      "text/plain": [
       "[30, 24, 18, 84, 69, 54, 138, 114, 90]"
      ]
     },
     "execution_count": 20,
     "metadata": {},
     "output_type": "execute_result"
    }
   ],
   "execution_count": 20
  },
  {
   "metadata": {
    "ExecuteTime": {
     "end_time": "2025-08-30T13:15:38.635401Z",
     "start_time": "2025-08-30T13:15:38.629832Z"
    }
   },
   "cell_type": "code",
   "source": [
    "# 9 don't check for type using ==\n",
    "from collections import namedtuple\n",
    "MyTuple = namedtuple(typename=\"MyTuple\", field_names=[\"a\", \"b\", \"c\"])\n",
    "\n",
    "def check_type_using_equals(value):\n",
    "    if type(value) == tuple:\n",
    "        return \"It's a tuple\"\n",
    "    elif type(value) == str:\n",
    "        return \"It's a string\"\n",
    "    else:\n",
    "        return \"Unknown type\"\n",
    "\n",
    "\n",
    "x = MyTuple(1, 2, 3)\n",
    "output_wrong_9 = check_type_using_equals(x)\n",
    "output_wrong_9"
   ],
   "id": "f8b258bd4d765776",
   "outputs": [
    {
     "data": {
      "text/plain": [
       "'Unknown type'"
      ]
     },
     "execution_count": 21,
     "metadata": {},
     "output_type": "execute_result"
    }
   ],
   "execution_count": 21
  },
  {
   "metadata": {
    "ExecuteTime": {
     "end_time": "2025-08-30T13:15:38.728283Z",
     "start_time": "2025-08-30T13:15:38.721906Z"
    }
   },
   "cell_type": "code",
   "source": [
    "# use isinstance instead\n",
    "def check_type_using_isinstance(value):\n",
    "    if isinstance(value, tuple):\n",
    "        return \"It's a tuple\"\n",
    "    elif isinstance(value, str):\n",
    "        return \"It's a string\"\n",
    "    else:\n",
    "        return \"Unknown type\"\n",
    "\n",
    "x = MyTuple(1, 2, 3)\n",
    "output_9 = check_type_using_isinstance(x)\n",
    "output_9"
   ],
   "id": "a0b79f809e6b7791",
   "outputs": [
    {
     "data": {
      "text/plain": [
       "\"It's a tuple\""
      ]
     },
     "execution_count": 22,
     "metadata": {},
     "output_type": "execute_result"
    }
   ],
   "execution_count": 22
  },
  {
   "metadata": {
    "ExecuteTime": {
     "end_time": "2025-08-30T13:15:38.841343Z",
     "start_time": "2025-08-30T13:15:38.836241Z"
    }
   },
   "cell_type": "code",
   "source": [
    "\n",
    "# 10. don't use == to check for None, or True, or False\n",
    "def check_for_none_using_equals(value):\n",
    "    if value == None:\n",
    "        return \"It's None\"\n",
    "    elif value == True:\n",
    "        return \"It's True\"\n",
    "    elif value == False:\n",
    "        return \"It's False\"\n",
    "    else:\n",
    "        return \"Unknown value\"\n",
    "\n",
    "output_wrong_10 = check_for_none_using_equals(None)\n",
    "output_wrong_10"
   ],
   "id": "8ca8db58818ab419",
   "outputs": [
    {
     "data": {
      "text/plain": [
       "\"It's None\""
      ]
     },
     "execution_count": 23,
     "metadata": {},
     "output_type": "execute_result"
    }
   ],
   "execution_count": 23
  },
  {
   "metadata": {
    "ExecuteTime": {
     "end_time": "2025-08-30T13:15:38.942367Z",
     "start_time": "2025-08-30T13:15:38.937163Z"
    }
   },
   "cell_type": "code",
   "source": [
    "output_wrong_10_bool = check_for_none_using_equals(True)\n",
    "output_wrong_10_bool\n"
   ],
   "id": "3a34f1103133acb4",
   "outputs": [
    {
     "data": {
      "text/plain": [
       "\"It's True\""
      ]
     },
     "execution_count": 24,
     "metadata": {},
     "output_type": "execute_result"
    }
   ],
   "execution_count": 24
  },
  {
   "metadata": {
    "ExecuteTime": {
     "end_time": "2025-08-30T13:15:39.051822Z",
     "start_time": "2025-08-30T13:15:39.045127Z"
    }
   },
   "cell_type": "code",
   "source": [
    "# use is or is not instead\n",
    "def check_for_none_using_is(value):\n",
    "    if value is None:\n",
    "        return \"It's None\"\n",
    "    elif value is True:\n",
    "        return \"It's True\"\n",
    "    elif value is False:\n",
    "        return \"It's False\"\n",
    "    else:\n",
    "        return \"Unknown value\"\n",
    "\n",
    "output_10 = check_for_none_using_is(None)\n",
    "output_10"
   ],
   "id": "1c0b5551f883a42a",
   "outputs": [
    {
     "data": {
      "text/plain": [
       "\"It's None\""
      ]
     },
     "execution_count": 25,
     "metadata": {},
     "output_type": "execute_result"
    }
   ],
   "execution_count": 25
  },
  {
   "metadata": {
    "ExecuteTime": {
     "end_time": "2025-08-30T13:15:39.160455Z",
     "start_time": "2025-08-30T13:15:39.154422Z"
    }
   },
   "cell_type": "code",
   "source": [
    "# 11. don't check for bool or len\n",
    "\n",
    "def check_for_bool_or_len(value):\n",
    "    if bool(value):\n",
    "        return \"It's True\"\n",
    "\n",
    "    if len(value) > 0:\n",
    "        return \"It's non-empty\"\n",
    "\n",
    "    return \"It's False or empty\"\n",
    "\n",
    "output_wrong_11 = check_for_bool_or_len([1, 2, 3])\n",
    "output_wrong_11"
   ],
   "id": "d7b21e193c7fd5f1",
   "outputs": [
    {
     "data": {
      "text/plain": [
       "\"It's True\""
      ]
     },
     "execution_count": 26,
     "metadata": {},
     "output_type": "execute_result"
    }
   ],
   "execution_count": 26
  },
  {
   "metadata": {
    "ExecuteTime": {
     "end_time": "2025-08-30T13:15:39.260636Z",
     "start_time": "2025-08-30T13:15:39.255892Z"
    }
   },
   "cell_type": "code",
   "source": [
    "output_wrong_11_el = check_for_bool_or_len([])\n",
    "output_wrong_11_el"
   ],
   "id": "348d2bfba9b7a778",
   "outputs": [
    {
     "data": {
      "text/plain": [
       "\"It's False or empty\""
      ]
     },
     "execution_count": 27,
     "metadata": {},
     "output_type": "execute_result"
    }
   ],
   "execution_count": 27
  },
  {
   "metadata": {
    "ExecuteTime": {
     "end_time": "2025-08-30T13:15:39.361740Z",
     "start_time": "2025-08-30T13:15:39.356817Z"
    }
   },
   "cell_type": "code",
   "source": [
    "# use implicit boolean context instead\n",
    "def check_for_bool_or_len_implicitly(value):\n",
    "    if value:\n",
    "        return \"It's True or non-empty\"\n",
    "    return \"It's False or empty\"\n",
    "\n",
    "output_11 = check_for_bool_or_len_implicitly([1, 2, 3])\n",
    "output_11\n"
   ],
   "id": "501384e1792804b8",
   "outputs": [
    {
     "data": {
      "text/plain": [
       "\"It's True or non-empty\""
      ]
     },
     "execution_count": 28,
     "metadata": {},
     "output_type": "execute_result"
    }
   ],
   "execution_count": 28
  },
  {
   "metadata": {
    "ExecuteTime": {
     "end_time": "2025-08-30T13:15:39.473282Z",
     "start_time": "2025-08-30T13:15:39.468063Z"
    }
   },
   "cell_type": "code",
   "source": [
    "# 12. don't use range len idiom\n",
    "def using_range_len_to_iterate_list(my_list):\n",
    "\n",
    "    for i in range(len(my_list)):\n",
    "        print(my_list[i])\n",
    "\n",
    "my_list = [1, 2, 3]\n",
    "using_range_len_to_iterate_list(my_list)"
   ],
   "id": "ffd8ad33e4d82777",
   "outputs": [
    {
     "name": "stdout",
     "output_type": "stream",
     "text": [
      "1\n",
      "2\n",
      "3\n"
     ]
    }
   ],
   "execution_count": 29
  },
  {
   "metadata": {
    "ExecuteTime": {
     "end_time": "2025-08-30T13:15:39.621218Z",
     "start_time": "2025-08-30T13:15:39.616451Z"
    }
   },
   "cell_type": "code",
   "source": [
    "# use direct iteration instead\n",
    "def using_direct_iteration_to_iterate_list(my_list):\n",
    "    for item in my_list:\n",
    "        print(item)\n",
    "\n",
    "my_list = [1, 2, 3]\n",
    "using_direct_iteration_to_iterate_list(my_list)"
   ],
   "id": "e49cacfcabd04a0d",
   "outputs": [
    {
     "name": "stdout",
     "output_type": "stream",
     "text": [
      "1\n",
      "2\n",
      "3\n"
     ]
    }
   ],
   "execution_count": 30
  },
  {
   "metadata": {
    "ExecuteTime": {
     "end_time": "2025-08-30T13:15:39.722494Z",
     "start_time": "2025-08-30T13:15:39.718007Z"
    }
   },
   "cell_type": "code",
   "source": [
    "# use enumerate to get index and value\n",
    "def using_enumerate_to_get_index_and_value(my_list):\n",
    "    for index, item in enumerate(my_list):\n",
    "        print(f\"Index: {index}, Value: {item}\")\n",
    "\n",
    "my_list = [1, 2, 3]\n",
    "using_enumerate_to_get_index_and_value(my_list)\n"
   ],
   "id": "e85477eb0c757d02",
   "outputs": [
    {
     "name": "stdout",
     "output_type": "stream",
     "text": [
      "Index: 0, Value: 1\n",
      "Index: 1, Value: 2\n",
      "Index: 2, Value: 3\n"
     ]
    }
   ],
   "execution_count": 31
  },
  {
   "metadata": {
    "ExecuteTime": {
     "end_time": "2025-08-30T13:15:39.841280Z",
     "start_time": "2025-08-30T13:15:39.836115Z"
    }
   },
   "cell_type": "code",
   "source": [
    "# use zip to iterate over multiple lists\n",
    "def using_zip_to_iterate_over_multiple_lists(list1, list2):\n",
    "    for id, (item1, item2) in enumerate(zip(list1, list2)):\n",
    "        print(f\"Index: {id}, List1 Value: {item1}, List2 Value: {item2}\")\n",
    "\n",
    "list1 = [1, 2, 3]\n",
    "list2 = ['a', 'b', 'c']\n",
    "using_zip_to_iterate_over_multiple_lists(list1, list2)\n"
   ],
   "id": "44993b0023b84df3",
   "outputs": [
    {
     "name": "stdout",
     "output_type": "stream",
     "text": [
      "Index: 0, List1 Value: 1, List2 Value: a\n",
      "Index: 1, List1 Value: 2, List2 Value: b\n",
      "Index: 2, List1 Value: 3, List2 Value: c\n"
     ]
    }
   ],
   "execution_count": 32
  },
  {
   "metadata": {
    "ExecuteTime": {
     "end_time": "2025-08-30T13:15:39.943889Z",
     "start_time": "2025-08-30T13:15:39.939924Z"
    }
   },
   "cell_type": "code",
   "source": [
    "# 13. don't iterate over dictionary keys to get values\n",
    "def iterating_over_dict_keys_to_get_values(my_dict):\n",
    "    for key in my_dict.keys():\n",
    "        print(f\"Key: {key}, Value: {my_dict[key]}\")\n",
    "\n",
    "my_dict = {'a': 1, 'b': 2, 'c': 3}\n",
    "iterating_over_dict_keys_to_get_values(my_dict)\n"
   ],
   "id": "b52c71c5ec53d1d9",
   "outputs": [
    {
     "name": "stdout",
     "output_type": "stream",
     "text": [
      "Key: a, Value: 1\n",
      "Key: b, Value: 2\n",
      "Key: c, Value: 3\n"
     ]
    }
   ],
   "execution_count": 33
  },
  {
   "metadata": {
    "ExecuteTime": {
     "end_time": "2025-08-30T13:15:40.037452Z",
     "start_time": "2025-08-30T13:15:40.033486Z"
    }
   },
   "cell_type": "code",
   "source": [
    "# use items() to get key and value\n",
    "def using_items_to_get_key_and_value(my_dict):\n",
    "    for key, value in my_dict.items():\n",
    "        print(f\"Key: {key}, Value: {value}\")\n",
    "\n",
    "my_dict = {'a': 1, 'b': 2, 'c': 3}\n",
    "using_items_to_get_key_and_value(my_dict)"
   ],
   "id": "48c469287e1763a2",
   "outputs": [
    {
     "name": "stdout",
     "output_type": "stream",
     "text": [
      "Key: a, Value: 1\n",
      "Key: b, Value: 2\n",
      "Key: c, Value: 3\n"
     ]
    }
   ],
   "execution_count": 34
  },
  {
   "metadata": {
    "ExecuteTime": {
     "end_time": "2025-08-30T13:15:40.154077Z",
     "start_time": "2025-08-30T13:15:40.149512Z"
    }
   },
   "cell_type": "code",
   "source": [
    "# use default for dict to get all keys\n",
    "def using_default_for_dict_to_get_all_keys(my_dict):\n",
    "    for key in my_dict:\n",
    "        print(f\"Key: {key}, Value: {my_dict[key]}\")\n",
    "\n",
    "my_dict = {'a': 1, 'b': 2, 'c': 3}\n",
    "using_default_for_dict_to_get_all_keys(my_dict)"
   ],
   "id": "5438dd0ecb8c86b",
   "outputs": [
    {
     "name": "stdout",
     "output_type": "stream",
     "text": [
      "Key: a, Value: 1\n",
      "Key: b, Value: 2\n",
      "Key: c, Value: 3\n"
     ]
    }
   ],
   "execution_count": 35
  },
  {
   "metadata": {
    "ExecuteTime": {
     "end_time": "2025-08-30T13:15:40.267066Z",
     "start_time": "2025-08-30T13:15:40.259978Z"
    }
   },
   "cell_type": "code",
   "source": [
    "\n",
    "# 14. don't use tuple unpacking\n",
    "def without_tuple_unpacking():\n",
    "    point = (1, 2)\n",
    "    x = point[0]\n",
    "    y = point[1]\n",
    "    return x, y\n",
    "\n",
    "x, y = without_tuple_unpacking()\n",
    "x, y"
   ],
   "id": "31150cfb5d1a8f68",
   "outputs": [
    {
     "data": {
      "text/plain": [
       "(1, 2)"
      ]
     },
     "execution_count": 36,
     "metadata": {},
     "output_type": "execute_result"
    }
   ],
   "execution_count": 36
  },
  {
   "metadata": {
    "ExecuteTime": {
     "end_time": "2025-08-30T13:15:40.369926Z",
     "start_time": "2025-08-30T13:15:40.364883Z"
    }
   },
   "cell_type": "code",
   "source": [
    "# use tuple unpacking instead\n",
    "def with_tuple_unpacking():\n",
    "    point = (1, 2)\n",
    "    x, y = point\n",
    "    return x, y\n",
    "\n",
    "x, y = with_tuple_unpacking()\n",
    "x, y\n"
   ],
   "id": "a7fe3d847399618a",
   "outputs": [
    {
     "data": {
      "text/plain": [
       "(1, 2)"
      ]
     },
     "execution_count": 37,
     "metadata": {},
     "output_type": "execute_result"
    }
   ],
   "execution_count": 37
  },
  {
   "metadata": {
    "ExecuteTime": {
     "end_time": "2025-08-30T13:15:40.464045Z",
     "start_time": "2025-08-30T13:15:40.458193Z"
    }
   },
   "cell_type": "code",
   "source": [
    "# 15. don't create counter variable in loops\n",
    "def using_counter_variable_in_loop(n):\n",
    "    total = 0\n",
    "    for i in range(n):\n",
    "        total += 1\n",
    "\n",
    "    return total\n",
    "\n",
    "output_wrong_15 = using_counter_variable_in_loop(5)\n",
    "output_wrong_15"
   ],
   "id": "64998cba6ef727d1",
   "outputs": [
    {
     "data": {
      "text/plain": [
       "5"
      ]
     },
     "execution_count": 38,
     "metadata": {},
     "output_type": "execute_result"
    }
   ],
   "execution_count": 38
  },
  {
   "metadata": {
    "ExecuteTime": {
     "end_time": "2025-08-30T13:15:40.575675Z",
     "start_time": "2025-08-30T13:15:40.570913Z"
    }
   },
   "cell_type": "code",
   "source": [
    "# use enumerate instead\n",
    "def using_enumerate_in_loop(n):\n",
    "    for v, _ in enumerate(range(n)):\n",
    "        pass\n",
    "    return v + 1  # since v is zero-indexed\n",
    "\n",
    "output_15 = using_enumerate_in_loop(5)\n",
    "output_15\n"
   ],
   "id": "cfacc80056c61f25",
   "outputs": [
    {
     "data": {
      "text/plain": [
       "5"
      ]
     },
     "execution_count": 39,
     "metadata": {},
     "output_type": "execute_result"
    }
   ],
   "execution_count": 39
  },
  {
   "metadata": {
    "ExecuteTime": {
     "end_time": "2025-08-30T13:15:40.699342Z",
     "start_time": "2025-08-30T13:15:40.674299Z"
    }
   },
   "cell_type": "code",
   "source": [
    "# 16. don't use time.time for measuring elapsed time\n",
    "import time\n",
    "def using_time_time_to_measure_elapsed_time():\n",
    "    start = time.time()\n",
    "    total = sum(range(1000000))\n",
    "    end = time.time()\n",
    "    elapsed = end - start\n",
    "    return elapsed, total\n",
    "\n",
    "elapsed_wrong_16, total_wrong_16 = using_time_time_to_measure_elapsed_time()\n",
    "elapsed_wrong_16, total_wrong_16"
   ],
   "id": "f98b2c6b88b1cc",
   "outputs": [
    {
     "data": {
      "text/plain": [
       "(0.017615795135498047, 499999500000)"
      ]
     },
     "execution_count": 40,
     "metadata": {},
     "output_type": "execute_result"
    }
   ],
   "execution_count": 40
  },
  {
   "metadata": {
    "ExecuteTime": {
     "end_time": "2025-08-30T13:15:40.804148Z",
     "start_time": "2025-08-30T13:15:40.780605Z"
    }
   },
   "cell_type": "code",
   "source": [
    "# use time.perf_counter instead\n",
    "def using_time_perf_counter_to_measure_elapsed_time():\n",
    "    start = time.perf_counter()\n",
    "    total = sum(range(1000000))\n",
    "    end = time.perf_counter()\n",
    "    elapsed = end - start\n",
    "    return elapsed, total\n",
    "\n",
    "elapsed_16, total_16 = using_time_perf_counter_to_measure_elapsed_time()\n",
    "round(elapsed_16, 5), total_16"
   ],
   "id": "7e6b8b92625ea545",
   "outputs": [
    {
     "data": {
      "text/plain": [
       "(0.01609, 499999500000)"
      ]
     },
     "execution_count": 41,
     "metadata": {},
     "output_type": "execute_result"
    }
   ],
   "execution_count": 41
  },
  {
   "metadata": {
    "ExecuteTime": {
     "end_time": "2025-08-30T13:15:40.890421Z",
     "start_time": "2025-08-30T13:15:40.886669Z"
    }
   },
   "cell_type": "code",
   "source": [
    "# 17. don't use print for logging\n",
    "def using_print_for_logging(message: str):\n",
    "    print(f\"LOG: {message}\")\n",
    "\n",
    "using_print_for_logging(\"This is a log message\")\n"
   ],
   "id": "dc0843d1301d989a",
   "outputs": [
    {
     "name": "stdout",
     "output_type": "stream",
     "text": [
      "LOG: This is a log message\n"
     ]
    }
   ],
   "execution_count": 42
  },
  {
   "metadata": {
    "ExecuteTime": {
     "end_time": "2025-08-30T13:15:40.993043Z",
     "start_time": "2025-08-30T13:15:40.987105Z"
    }
   },
   "cell_type": "code",
   "source": [
    "# use logging module instead\n",
    "import logging\n",
    "logging.basicConfig(level=logging.INFO)\n",
    "def using_logging_module_for_logging(message: str):\n",
    "    logging.info(message)\n",
    "\n",
    "using_logging_module_for_logging(\"This is a log message\")\n"
   ],
   "id": "91bdae1f4fa151d0",
   "outputs": [
    {
     "name": "stderr",
     "output_type": "stream",
     "text": [
      "INFO:root:This is a log message\n"
     ]
    }
   ],
   "execution_count": 43
  },
  {
   "metadata": {
    "ExecuteTime": {
     "end_time": "2025-08-30T13:15:41.145573Z",
     "start_time": "2025-08-30T13:15:41.089662Z"
    }
   },
   "cell_type": "code",
   "source": [
    "# 18. don't use shell=True with subprocess\n",
    "import subprocess\n",
    "def using_shell_true_with_subprocess(command: str):\n",
    "    result = subprocess.run(command, shell=True, capture_output=True, text=True)\n",
    "    return result.stdout\n",
    "\n",
    "output_wrong_18 = using_shell_true_with_subprocess(\"echo Hello, World!\")\n",
    "output_wrong_18\n"
   ],
   "id": "2402e45666fd1210",
   "outputs": [
    {
     "data": {
      "text/plain": [
       "'Hello, World!\\n'"
      ]
     },
     "execution_count": 44,
     "metadata": {},
     "output_type": "execute_result"
    }
   ],
   "execution_count": 44
  },
  {
   "metadata": {
    "ExecuteTime": {
     "end_time": "2025-08-30T13:15:41.218667Z",
     "start_time": "2025-08-30T13:15:41.213180Z"
    }
   },
   "cell_type": "code",
   "source": [
    "# use list of arguments instead\n",
    "def using_list_of_arguments_with_subprocess(command: list):\n",
    "    result = subprocess.run(command, capture_output=True)\n",
    "    return result.stdout\n",
    "\n",
    "# it doesn't work on Windows\n"
   ],
   "id": "6b1bb4a1681abc00",
   "outputs": [],
   "execution_count": 45
  },
  {
   "metadata": {
    "ExecuteTime": {
     "end_time": "2025-08-30T13:15:41.240727Z",
     "start_time": "2025-08-30T13:15:41.231677Z"
    }
   },
   "cell_type": "code",
   "source": [
    "# 19. not using numpy fo array operations\n",
    "def using_list_for_array_operations(size: int):\n",
    "    a = list(range(size))\n",
    "    b = list(range(size))\n",
    "    c = [a[i] + b[i] for i in range(size)]\n",
    "    return c\n",
    "\n",
    "output_wrong_19 = using_list_for_array_operations(5)\n",
    "output_wrong_19\n"
   ],
   "id": "f27cc0d87aa5818c",
   "outputs": [
    {
     "data": {
      "text/plain": [
       "[0, 2, 4, 6, 8]"
      ]
     },
     "execution_count": 46,
     "metadata": {},
     "output_type": "execute_result"
    }
   ],
   "execution_count": 46
  },
  {
   "metadata": {
    "ExecuteTime": {
     "end_time": "2025-08-30T13:15:41.665875Z",
     "start_time": "2025-08-30T13:15:41.365283Z"
    }
   },
   "cell_type": "code",
   "source": [
    "# use numpy instead\n",
    "import numpy as np\n",
    "def using_numpy_for_array_operations(size: int):\n",
    "    a = np.arange(size)\n",
    "    b = np.arange(size)\n",
    "    return a + b\n",
    "\n",
    "output_19 = using_numpy_for_array_operations(5)\n",
    "output_19\n"
   ],
   "id": "8c7170db68dea22d",
   "outputs": [
    {
     "data": {
      "text/plain": [
       "array([0, 2, 4, 6, 8])"
      ]
     },
     "execution_count": 47,
     "metadata": {},
     "output_type": "execute_result"
    }
   ],
   "execution_count": 47
  },
  {
   "metadata": {
    "ExecuteTime": {
     "end_time": "2025-08-30T13:15:41.741415Z",
     "start_time": "2025-08-30T13:15:41.735418Z"
    }
   },
   "cell_type": "code",
   "source": [
    "# 19. don't use * in the import statement\n",
    "from itertools import *\n",
    "def using_star_in_import_statement():\n",
    "    return count()\n",
    "\n",
    "counter = using_star_in_import_statement()\n",
    "next(counter)\n"
   ],
   "id": "38f194df73b4e1c1",
   "outputs": [
    {
     "data": {
      "text/plain": [
       "0"
      ]
     },
     "execution_count": 48,
     "metadata": {},
     "output_type": "execute_result"
    }
   ],
   "execution_count": 48
  },
  {
   "metadata": {
    "ExecuteTime": {
     "end_time": "2025-08-30T13:15:41.854770Z",
     "start_time": "2025-08-30T13:15:41.848168Z"
    }
   },
   "cell_type": "code",
   "source": [
    "# use explicit imports instead\n",
    "from itertools import count\n",
    "def using_explicit_imports():\n",
    "    return count()\n",
    "counter = using_explicit_imports()\n",
    "next(counter)\n"
   ],
   "id": "83f2225eef625f29",
   "outputs": [
    {
     "data": {
      "text/plain": [
       "0"
      ]
     },
     "execution_count": 49,
     "metadata": {},
     "output_type": "execute_result"
    }
   ],
   "execution_count": 49
  },
  {
   "metadata": {
    "ExecuteTime": {
     "end_time": "2025-08-30T13:15:41.951812Z",
     "start_time": "2025-08-30T13:15:41.944367Z"
    }
   },
   "cell_type": "code",
   "source": [
    "# 20. don't use mutable objects as keys in dictionaries\n",
    "def using_mutable_object_as_dict_key():\n",
    "    my_dict = {}\n",
    "    my_list = [1, 2, 3]\n",
    "    try:\n",
    "        my_dict[my_list] = \"This is a list\"\n",
    "    except TypeError as e:\n",
    "        return str(e)\n",
    "\n",
    "error_message = using_mutable_object_as_dict_key()\n",
    "error_message\n"
   ],
   "id": "55b16d904b980015",
   "outputs": [
    {
     "data": {
      "text/plain": [
       "\"unhashable type: 'list'\""
      ]
     },
     "execution_count": 50,
     "metadata": {},
     "output_type": "execute_result"
    }
   ],
   "execution_count": 50
  },
  {
   "metadata": {
    "ExecuteTime": {
     "end_time": "2025-08-30T13:15:42.050947Z",
     "start_time": "2025-08-30T13:15:42.045844Z"
    }
   },
   "cell_type": "code",
   "source": [
    "# 21. don't round manually in print statements\n",
    "def rounding_manually_in_print_statements(value: float):\n",
    "    print(\"The value is: \" + str(round(value, 2)))\n",
    "\n",
    "rounding_manually_in_print_statements(2.88849403)"
   ],
   "id": "101e77d8003a2266",
   "outputs": [
    {
     "name": "stdout",
     "output_type": "stream",
     "text": [
      "The value is: 2.89\n"
     ]
    }
   ],
   "execution_count": 51
  },
  {
   "metadata": {
    "ExecuteTime": {
     "end_time": "2025-08-30T13:15:42.166939Z",
     "start_time": "2025-08-30T13:15:42.161615Z"
    }
   },
   "cell_type": "code",
   "source": [
    "# use formatted string literals instead\n",
    "def rounding_with_f_string(value: float):\n",
    "    print(f\"The value is: {value:.2f}\")\n",
    "\n",
    "rounding_with_f_string(2.88849403)"
   ],
   "id": "5390761618e3bd87",
   "outputs": [
    {
     "name": "stdout",
     "output_type": "stream",
     "text": [
      "The value is: 2.89\n"
     ]
    }
   ],
   "execution_count": 52
  },
  {
   "metadata": {
    "ExecuteTime": {
     "end_time": "2025-08-30T13:15:42.280900Z",
     "start_time": "2025-08-30T13:15:42.273622Z"
    }
   },
   "cell_type": "code",
   "source": [
    "# 22. don't convert repeatedly to from numpy arrays\n",
    "def converting_repeatedly_to_from_numpy_arrays(size: int):\n",
    "    a = np.arange(size)\n",
    "    b = np.arange(size)\n",
    "    max1 = max(a)\n",
    "    max2 = max(b)\n",
    "    return max1 + max2\n",
    "\n",
    "output_wrong_22 = converting_repeatedly_to_from_numpy_arrays(5)\n",
    "output_wrong_22"
   ],
   "id": "49a494d728261d4",
   "outputs": [
    {
     "data": {
      "text/plain": [
       "np.int64(8)"
      ]
     },
     "execution_count": 53,
     "metadata": {},
     "output_type": "execute_result"
    }
   ],
   "execution_count": 53
  },
  {
   "metadata": {
    "ExecuteTime": {
     "end_time": "2025-08-30T13:15:42.415213Z",
     "start_time": "2025-08-30T13:15:42.407894Z"
    }
   },
   "cell_type": "code",
   "source": [
    "# use numpy functions instead\n",
    "def using_numpy_functions(size: int):\n",
    "    a = np.arange(size)\n",
    "    b = np.arange(size)\n",
    "    return np.max(a) + np.max(b)\n",
    "\n",
    "output_22 = using_numpy_functions(5)\n",
    "output_22\n",
    "\n"
   ],
   "id": "cdc6631e7610b5e9",
   "outputs": [
    {
     "data": {
      "text/plain": [
       "np.int64(8)"
      ]
     },
     "execution_count": 54,
     "metadata": {},
     "output_type": "execute_result"
    }
   ],
   "execution_count": 54
  },
  {
   "metadata": {
    "ExecuteTime": {
     "end_time": "2025-08-30T13:15:42.561028Z",
     "start_time": "2025-08-30T13:15:42.553757Z"
    }
   },
   "cell_type": "code",
   "source": [
    "# 23. dont' manipulate paths as strings\n",
    "def manipulating_paths_as_strings(dir_name: str, file_name: str):\n",
    "    full_path = dir_name + \"/\" + file_name\n",
    "    return full_path\n",
    "\n",
    "path = manipulating_paths_as_strings(\"my_dir\", \"my_file.txt\")\n",
    "path\n"
   ],
   "id": "dd3cc1a45a11c4dd",
   "outputs": [
    {
     "data": {
      "text/plain": [
       "'my_dir/my_file.txt'"
      ]
     },
     "execution_count": 55,
     "metadata": {},
     "output_type": "execute_result"
    }
   ],
   "execution_count": 55
  },
  {
   "metadata": {
    "ExecuteTime": {
     "end_time": "2025-08-30T13:15:42.697809Z",
     "start_time": "2025-08-30T13:15:42.688579Z"
    }
   },
   "cell_type": "code",
   "source": [
    "# instead use pathlib\n",
    "from pathlib import Path\n",
    "def using_pathlib(dir_name: str, file_name: str):\n",
    "    path = Path(dir_name).joinpath(file_name)\n",
    "    data_dir = path.parent\n",
    "    return path, data_dir, path.with_name(\"test.txt\"), data_dir.joinpath(\"abc\", \"def\")\n",
    "\n",
    "paths_data = using_pathlib(\"my_dir\", \"my_file.txt\")\n",
    "paths_data\n"
   ],
   "id": "9db9f073e16ea6c3",
   "outputs": [
    {
     "data": {
      "text/plain": [
       "(WindowsPath('my_dir/my_file.txt'),\n",
       " WindowsPath('my_dir'),\n",
       " WindowsPath('my_dir/test.txt'),\n",
       " WindowsPath('my_dir/abc/def'))"
      ]
     },
     "execution_count": 56,
     "metadata": {},
     "output_type": "execute_result"
    }
   ],
   "execution_count": 56
  },
  {
   "metadata": {
    "ExecuteTime": {
     "end_time": "2025-08-30T13:15:42.857213Z",
     "start_time": "2025-08-30T13:15:42.848345Z"
    }
   },
   "cell_type": "code",
   "source": [
    "# 24. don't concatenate strings in a loop with plus\n",
    "def concatenating_strings_in_loop_with_plus(n: int):\n",
    "    result = \"\"\n",
    "    for i in range(n):\n",
    "        result += str(i)\n",
    "    return result\n",
    "\n",
    "output_wrong_24 = concatenating_strings_in_loop_with_plus(5)\n",
    "output_wrong_24\n"
   ],
   "id": "33f23694c21dba7e",
   "outputs": [
    {
     "data": {
      "text/plain": [
       "'01234'"
      ]
     },
     "execution_count": 57,
     "metadata": {},
     "output_type": "execute_result"
    }
   ],
   "execution_count": 57
  },
  {
   "metadata": {
    "ExecuteTime": {
     "end_time": "2025-08-30T13:15:42.994679Z",
     "start_time": "2025-08-30T13:15:42.986313Z"
    }
   },
   "cell_type": "code",
   "source": [
    "# use StringIO instead\n",
    "from io import StringIO\n",
    "def using_stringio_to_concatenate_strings(n: int):\n",
    "    string_io = StringIO()\n",
    "    for i in range(n):\n",
    "        string_io.write(str(i))\n",
    "    return string_io.getvalue()\n",
    "\n",
    "output_24 = using_stringio_to_concatenate_strings(5)\n",
    "output_24\n"
   ],
   "id": "aa46464429a5950a",
   "outputs": [
    {
     "data": {
      "text/plain": [
       "'01234'"
      ]
     },
     "execution_count": 58,
     "metadata": {},
     "output_type": "execute_result"
    }
   ],
   "execution_count": 58
  },
  {
   "metadata": {
    "ExecuteTime": {
     "end_time": "2025-08-30T13:15:43.131253Z",
     "start_time": "2025-08-30T13:15:43.123271Z"
    }
   },
   "cell_type": "code",
   "source": [
    "# 25. don't use eval for parsing expressions\n",
    "def using_eval_to_parse_expression(expr: dict):\n",
    "    try:\n",
    "        result = eval(expr)\n",
    "    except Exception as e:\n",
    "        print(f\"Error: {e}\")\n",
    "    return result, type(result)\n",
    "\n",
    "output_wrong_25 = using_eval_to_parse_expression(\"{'a': 1, 'b': 2}\")\n",
    "output_wrong_25"
   ],
   "id": "caf42be624d98e22",
   "outputs": [
    {
     "data": {
      "text/plain": [
       "({'a': 1, 'b': 2}, dict)"
      ]
     },
     "execution_count": 59,
     "metadata": {},
     "output_type": "execute_result"
    }
   ],
   "execution_count": 59
  },
  {
   "metadata": {
    "ExecuteTime": {
     "end_time": "2025-08-30T13:15:43.268400Z",
     "start_time": "2025-08-30T13:15:43.259322Z"
    }
   },
   "cell_type": "code",
   "source": [
    "# use parsing library instead e.g. json\n",
    "import json\n",
    "def using_json_to_parse_expression(expr: str):\n",
    "    try:\n",
    "        result = json.loads(expr)\n",
    "    except json.JSONDecodeError as e:\n",
    "        print(f\"Error: {e}\")\n",
    "    return result, type(result)\n",
    "\n",
    "output_25 = using_json_to_parse_expression('{\"a\": 1, \"b\": 2}')\n",
    "output_25"
   ],
   "id": "a84bbb047782d724",
   "outputs": [
    {
     "data": {
      "text/plain": [
       "({'a': 1, 'b': 2}, dict)"
      ]
     },
     "execution_count": 60,
     "metadata": {},
     "output_type": "execute_result"
    }
   ],
   "execution_count": 60
  },
  {
   "metadata": {
    "ExecuteTime": {
     "end_time": "2025-08-30T13:15:43.409551Z",
     "start_time": "2025-08-30T13:15:43.401767Z"
    }
   },
   "cell_type": "code",
   "source": [
    "# 26. don't use global variables to control function behavior\n",
    "GLOBAL_FLAG = True\n",
    "def function_behavior_controlled_by_global_variable():\n",
    "    if GLOBAL_FLAG:\n",
    "        return \"Behavior A\"\n",
    "    else:\n",
    "        return \"Behavior B\"\n",
    "\n",
    "output_wrong_26 = function_behavior_controlled_by_global_variable()\n",
    "output_wrong_26\n"
   ],
   "id": "d6ded311512c3353",
   "outputs": [
    {
     "data": {
      "text/plain": [
       "'Behavior A'"
      ]
     },
     "execution_count": 61,
     "metadata": {},
     "output_type": "execute_result"
    }
   ],
   "execution_count": 61
  },
  {
   "metadata": {
    "ExecuteTime": {
     "end_time": "2025-08-30T13:15:43.563261Z",
     "start_time": "2025-08-30T13:15:43.556100Z"
    }
   },
   "cell_type": "code",
   "source": [
    "# use function parameters instead\n",
    "def function_behavior_controlled_by_parameter(flag: bool):\n",
    "    if flag:\n",
    "        return \"Behavior A\"\n",
    "    else:\n",
    "        return \"Behavior B\"\n",
    "\n",
    "output_26 = function_behavior_controlled_by_parameter(False)\n",
    "output_26\n"
   ],
   "id": "103fe124fed30a1",
   "outputs": [
    {
     "data": {
      "text/plain": [
       "'Behavior B'"
      ]
     },
     "execution_count": 62,
     "metadata": {},
     "output_type": "execute_result"
    }
   ],
   "execution_count": 62
  },
  {
   "metadata": {
    "ExecuteTime": {
     "end_time": "2025-08-30T13:15:43.715576Z",
     "start_time": "2025-08-30T13:15:43.703850Z"
    }
   },
   "cell_type": "code",
   "source": [
    "# 27. don't use and or for return boolean expressions\n",
    "\n",
    "def using_and_or_for_returning_boolean_expressions(a, b) -> tuple[bool, bool]:\n",
    "    \"\"\"\n",
    "    and first false or last true\n",
    "    or first true or last false\n",
    "    \"\"\"\n",
    "    return (a and b, a or b)\n",
    "\n",
    "output_wrong_27_and, output_wrong_27_or = using_and_or_for_returning_boolean_expressions([], {})\n",
    "output_wrong_27_and, output_wrong_27_or\n"
   ],
   "id": "50a9db2a3feb2486",
   "outputs": [
    {
     "data": {
      "text/plain": [
       "([], {})"
      ]
     },
     "execution_count": 63,
     "metadata": {},
     "output_type": "execute_result"
    }
   ],
   "execution_count": 63
  },
  {
   "metadata": {
    "ExecuteTime": {
     "end_time": "2025-08-30T13:15:43.819111Z",
     "start_time": "2025-08-30T13:15:43.811966Z"
    }
   },
   "cell_type": "code",
   "source": [
    "# 28. don't use single letter variable names\n",
    "def using_single_letter_variable_names(n: int) -> int:\n",
    "    s = 0\n",
    "    for i in range(n):\n",
    "        s += i\n",
    "    return s\n",
    "\n",
    "output_wrong_28 = using_single_letter_variable_names(5)\n",
    "output_wrong_28\n"
   ],
   "id": "daf1ac34199d32b4",
   "outputs": [
    {
     "data": {
      "text/plain": [
       "10"
      ]
     },
     "execution_count": 64,
     "metadata": {},
     "output_type": "execute_result"
    }
   ],
   "execution_count": 64
  },
  {
   "metadata": {
    "ExecuteTime": {
     "end_time": "2025-08-30T13:15:43.934381Z",
     "start_time": "2025-08-30T13:15:43.927660Z"
    }
   },
   "cell_type": "code",
   "source": [
    "# use descriptive variable names instead\n",
    "def using_descriptive_variable_names(n: int) -> int:\n",
    "    total_sum = 0\n",
    "    for number in range(n):\n",
    "        total_sum += number\n",
    "    return total_sum\n",
    "\n",
    "output_28 = using_descriptive_variable_names(5)\n",
    "output_28\n"
   ],
   "id": "18be831506e1978",
   "outputs": [
    {
     "data": {
      "text/plain": [
       "10"
      ]
     },
     "execution_count": 65,
     "metadata": {},
     "output_type": "execute_result"
    }
   ],
   "execution_count": 65
  },
  {
   "metadata": {
    "ExecuteTime": {
     "end_time": "2025-08-30T13:15:44.042595Z",
     "start_time": "2025-08-30T13:15:44.037868Z"
    }
   },
   "cell_type": "code",
   "source": [
    "# 29. don't use div and mod for divmod operation\n",
    "def using_div_and_mod_for_divmod_operation(a: int, b: int) -> tuple[int, int]:\n",
    "    quotient = a // b\n",
    "    remainder = a % b\n",
    "    return quotient, remainder\n",
    "\n",
    "output_wrong_29 = using_div_and_mod_for_divmod_operation(10, 3)\n",
    "output_wrong_29\n"
   ],
   "id": "b4b6331b3d30fd6e",
   "outputs": [
    {
     "data": {
      "text/plain": [
       "(3, 1)"
      ]
     },
     "execution_count": 66,
     "metadata": {},
     "output_type": "execute_result"
    }
   ],
   "execution_count": 66
  },
  {
   "metadata": {
    "ExecuteTime": {
     "end_time": "2025-08-30T13:15:44.141395Z",
     "start_time": "2025-08-30T13:15:44.136184Z"
    }
   },
   "cell_type": "code",
   "source": [
    "# use divmod instead\n",
    "def using_divmod_function(a: int, b: int) -> tuple[int, int]:\n",
    "    return divmod(a, b)\n",
    "\n",
    "output_29 = using_divmod_function(10, 3)\n",
    "output_29\n"
   ],
   "id": "65ec95ee6155ef14",
   "outputs": [
    {
     "data": {
      "text/plain": [
       "(3, 1)"
      ]
     },
     "execution_count": 67,
     "metadata": {},
     "output_type": "execute_result"
    }
   ],
   "execution_count": 67
  },
  {
   "metadata": {
    "ExecuteTime": {
     "end_time": "2025-08-30T13:15:44.244183Z",
     "start_time": "2025-08-30T13:15:44.237948Z"
    }
   },
   "cell_type": "code",
   "source": [
    "# 30. don't use JavaLike getters and setters\n",
    "class JavaLike:\n",
    "    def __init__(self, value: int):\n",
    "        self._value = value\n",
    "    def get_value(self) -> int:\n",
    "        return self._value\n",
    "    def set_value(self, value: int):\n",
    "        self._value = value\n",
    "\n",
    "obj = JavaLike(10)\n",
    "value_wrong_30 = obj.get_value()\n",
    "value_wrong_30\n"
   ],
   "id": "a816b5ae92f07a3a",
   "outputs": [
    {
     "data": {
      "text/plain": [
       "10"
      ]
     },
     "execution_count": 68,
     "metadata": {},
     "output_type": "execute_result"
    }
   ],
   "execution_count": 68
  },
  {
   "metadata": {
    "ExecuteTime": {
     "end_time": "2025-08-30T13:15:44.342126Z",
     "start_time": "2025-08-30T13:15:44.335858Z"
    }
   },
   "cell_type": "code",
   "source": [
    "# use Python properties instead\n",
    "class Pythonic:\n",
    "    def __init__(self, value: int):\n",
    "        self._value = value\n",
    "\n",
    "    @property\n",
    "    def value(self) -> int:\n",
    "        return self._value\n",
    "\n",
    "    @value.setter\n",
    "    def value(self, value: int):\n",
    "        self._value = value\n",
    "\n",
    "obj = Pythonic(10)\n",
    "value_30 = obj.value\n",
    "value_30\n"
   ],
   "id": "3c2fd17f2c4ba83f",
   "outputs": [
    {
     "data": {
      "text/plain": [
       "10"
      ]
     },
     "execution_count": 69,
     "metadata": {},
     "output_type": "execute_result"
    }
   ],
   "execution_count": 69
  },
  {
   "metadata": {
    "ExecuteTime": {
     "end_time": "2025-08-30T13:15:44.441534Z",
     "start_time": "2025-08-30T13:15:44.435756Z"
    }
   },
   "cell_type": "code",
   "source": [
    "# 31. don't insert or delete while iterating\n",
    "def inserting_while_iterating(my_list: list[int]) -> list[int]:\n",
    "    for i in my_list:\n",
    "        if i == 2:\n",
    "            my_list.append(4)\n",
    "\n",
    "    return my_list\n",
    "\n",
    "output_wrong_31 = inserting_while_iterating([1, 2, 3])\n",
    "output_wrong_31\n"
   ],
   "id": "573e6ce604c5827a",
   "outputs": [
    {
     "data": {
      "text/plain": [
       "[1, 2, 3, 4]"
      ]
     },
     "execution_count": 70,
     "metadata": {},
     "output_type": "execute_result"
    }
   ],
   "execution_count": 70
  },
  {
   "metadata": {
    "ExecuteTime": {
     "end_time": "2025-08-30T13:16:16.647866Z",
     "start_time": "2025-08-30T13:16:16.638182Z"
    }
   },
   "cell_type": "code",
   "source": [
    "# 32. don't use dunder methods in classes\n",
    "class Person:\n",
    "    def __init__(self, name: str):\n",
    "        self.name = name\n",
    "        self.friends = set()\n",
    "\n",
    "    def __str__(self) -> str:\n",
    "        return f\"Person(name={self.name})\"\n",
    "\n",
    "    def __repr__(self) -> str:\n",
    "        return f\"Person(name={self.name}, friends={[friend.name for friend in self.friends]})\"\n",
    "\n",
    "    def __iadd__(self, other):\n",
    "        if isinstance(other, Person):\n",
    "            self.friends.add(other)\n",
    "        return self\n",
    "\n",
    "pawel = Person(\"Pawel\")\n",
    "monika = Person(\"Monika\")\n",
    "\n",
    "pawel += monika\n",
    "pawel\n",
    "\n"
   ],
   "id": "489112d64fe222c6",
   "outputs": [
    {
     "data": {
      "text/plain": [
       "Person(name=Pawel, friends=['Monika'])"
      ]
     },
     "execution_count": 72,
     "metadata": {},
     "output_type": "execute_result"
    }
   ],
   "execution_count": 72
  },
  {
   "metadata": {
    "ExecuteTime": {
     "end_time": "2025-08-30T13:17:56.907666Z",
     "start_time": "2025-08-30T13:17:56.899830Z"
    }
   },
   "cell_type": "code",
   "source": [
    "# use regular methods instead\n",
    "class Person2:\n",
    "    def __init__(self, name: str):\n",
    "        self.name = name\n",
    "        self.friends = set()\n",
    "\n",
    "    def __str__(self) -> str:\n",
    "        return f\"Person(name={self.name})\"\n",
    "\n",
    "    def __repr__(self) -> str:\n",
    "        return f\"Person(name={self.name}, friends={[friend.name for friend in self.friends]})\"\n",
    "\n",
    "    def add_friend(self, other):\n",
    "        if isinstance(other, Person2):\n",
    "            self.friends.add(other)\n",
    "\n",
    "pawel = Person2(\"Pawel\")\n",
    "monika = Person2(\"Monika\")\n",
    "\n",
    "pawel.add_friend(monika)\n",
    "pawel"
   ],
   "id": "e40c8d5b06458846",
   "outputs": [
    {
     "data": {
      "text/plain": [
       "Person(name=Pawel, friends=['Monika'])"
      ]
     },
     "execution_count": 74,
     "metadata": {},
     "output_type": "execute_result"
    }
   ],
   "execution_count": 74
  },
  {
   "metadata": {
    "ExecuteTime": {
     "end_time": "2025-08-30T13:18:52.956563Z",
     "start_time": "2025-08-30T13:18:52.950318Z"
    }
   },
   "cell_type": "code",
   "source": [
    "# 33. don't parse HTML or XML with regex\n",
    "import re\n",
    "def parsing_html_with_regex(html: str) -> list[str]:\n",
    "    pattern = r'<a href=\"(.*?)\">'\n",
    "    return re.findall(pattern, html)\n",
    "\n",
    "html = '<html><body><a href=\"http://example.com\">Example</a></body></html>'\n",
    "output_wrong_33 = parsing_html_with_regex(html)\n",
    "output_wrong_33"
   ],
   "id": "828c5b13b290f2ae",
   "outputs": [
    {
     "data": {
      "text/plain": [
       "['http://example.com']"
      ]
     },
     "execution_count": 75,
     "metadata": {},
     "output_type": "execute_result"
    }
   ],
   "execution_count": 75
  },
  {
   "metadata": {
    "ExecuteTime": {
     "end_time": "2025-08-30T13:20:03.511435Z",
     "start_time": "2025-08-30T13:20:03.167567Z"
    }
   },
   "cell_type": "code",
   "source": [
    "# use BeautifulSoup instead\n",
    "from bs4 import BeautifulSoup\n",
    "def parsing_html_with_beautifulsoup(html: str) -> list[str]:\n",
    "    soup = BeautifulSoup(html, 'html.parser')\n",
    "    return [a['href'] for a in soup.find_all('a', href=True)]\n",
    "\n",
    "html = '<html><body><a href=\"http://example.com\">Example</a></body></html>'\n",
    "output_33 = parsing_html_with_beautifulsoup(html)\n",
    "output_33\n"
   ],
   "id": "b62e604a4709ee80",
   "outputs": [
    {
     "data": {
      "text/plain": [
       "['http://example.com']"
      ]
     },
     "execution_count": 76,
     "metadata": {},
     "output_type": "execute_result"
    }
   ],
   "execution_count": 76
  },
  {
   "metadata": {
    "ExecuteTime": {
     "end_time": "2025-08-30T13:21:47.891844Z",
     "start_time": "2025-08-30T13:21:47.885328Z"
    }
   },
   "cell_type": "code",
   "source": [
    "# 34. not knowing about raw strings\n",
    "def without_raw_strings() -> str:\n",
    "    return \"C:\\\\new_folder\\\\test.txt\"\n",
    "\n",
    "output_wrong_34 = without_raw_strings()\n",
    "output_wrong_34\n",
    "\n"
   ],
   "id": "54f10bbfd64a9a1f",
   "outputs": [
    {
     "data": {
      "text/plain": [
       "'C:\\\\new_folder\\\\test.txt'"
      ]
     },
     "execution_count": 77,
     "metadata": {},
     "output_type": "execute_result"
    }
   ],
   "execution_count": 77
  },
  {
   "metadata": {
    "ExecuteTime": {
     "end_time": "2025-08-30T13:21:52.173942Z",
     "start_time": "2025-08-30T13:21:52.167626Z"
    }
   },
   "cell_type": "code",
   "source": [
    "# use raw strings instead\n",
    "def with_raw_strings() -> str:\n",
    "    return r\"C:\\new_folder\\test.txt\"\n",
    "\n",
    "output_34 = with_raw_strings()\n",
    "output_34"
   ],
   "id": "ab45b485b360e3c3",
   "outputs": [
    {
     "data": {
      "text/plain": [
       "'C:\\\\new_folder\\\\test.txt'"
      ]
     },
     "execution_count": 78,
     "metadata": {},
     "output_type": "execute_result"
    }
   ],
   "execution_count": 78
  },
  {
   "metadata": {
    "ExecuteTime": {
     "end_time": "2025-08-30T13:27:18.429052Z",
     "start_time": "2025-08-30T13:27:18.422511Z"
    }
   },
   "cell_type": "code",
   "source": [
    "# 35. thinking the super() means parent class\n",
    "class Root:\n",
    "    def method(self):\n",
    "        return \"Root\"\n",
    "\n",
    "class A(Root):\n",
    "    def method(self):\n",
    "        return \"A\" + super().method()\n",
    "\n",
    "class B(Root):\n",
    "    def method(self):\n",
    "        return \"B\" + super().method()\n",
    "\n",
    "class C(A, B):\n",
    "    def method(self):\n",
    "        return \"C\" + super().method()\n",
    "\n",
    "output_wrong_35 = C().method()\n",
    "output_wrong_35\n"
   ],
   "id": "c79b92c3f8018852",
   "outputs": [
    {
     "data": {
      "text/plain": [
       "'CABRoot'"
      ]
     },
     "execution_count": 83,
     "metadata": {},
     "output_type": "execute_result"
    }
   ],
   "execution_count": 83
  },
  {
   "metadata": {
    "ExecuteTime": {
     "end_time": "2025-08-30T13:29:59.473439Z",
     "start_time": "2025-08-30T13:29:59.465373Z"
    }
   },
   "cell_type": "code",
   "source": [
    "# 36. don't pass the structured data as dict or tuple\n",
    "def passing_structured_data_as_dict() -> dict:\n",
    "    measurement = 10\n",
    "    timestamp = \"2023-10-01T12:00:00Z\"\n",
    "    first_name = \"John\"\n",
    "    last_name = \"Doe\"\n",
    "    age = 30\n",
    "    return {\n",
    "        'measurement': measurement,\n",
    "        'timestamp': timestamp,\n",
    "        'first_name': first_name,\n",
    "        'last_name': last_name,\n",
    "        'age': age\n",
    "    }\n",
    "\n",
    "output_wrong_36 = passing_structured_data_as_dict()\n",
    "output_wrong_36\n",
    "\n"
   ],
   "id": "c8f410d394d26f4f",
   "outputs": [
    {
     "data": {
      "text/plain": [
       "{'measurement': 10,\n",
       " 'timestamp': '2023-10-01T12:00:00Z',\n",
       " 'first_name': 'John',\n",
       " 'last_name': 'Doe',\n",
       " 'age': 30}"
      ]
     },
     "execution_count": 84,
     "metadata": {},
     "output_type": "execute_result"
    }
   ],
   "execution_count": 84
  },
  {
   "metadata": {
    "ExecuteTime": {
     "end_time": "2025-08-30T13:31:47.548494Z",
     "start_time": "2025-08-30T13:31:47.539585Z"
    }
   },
   "cell_type": "code",
   "source": [
    "# use dataclass instead\n",
    "from dataclasses import dataclass\n",
    "@dataclass\n",
    "class PersonData:\n",
    "    measurement: int\n",
    "    timestamp: str\n",
    "    first_name: str\n",
    "    last_name: str\n",
    "    age: int\n",
    "\n",
    "def passing_structured_data_as_dataclass() -> PersonData:\n",
    "    data = {'measurement': 10,\n",
    "            'timestamp': '2023-10-01T12:00:00Z',\n",
    "            'first_name': 'John',\n",
    "            'last_name': 'Doe',\n",
    "            'age': 30}\n",
    "    return PersonData(**data)\n",
    "\n",
    "output_36 = passing_structured_data_as_dataclass()\n",
    "output_36\n",
    "\n"
   ],
   "id": "b93066a98d4095e9",
   "outputs": [
    {
     "data": {
      "text/plain": [
       "PersonData(measurement=10, timestamp='2023-10-01T12:00:00Z', first_name='John', last_name='Doe', age=30)"
      ]
     },
     "execution_count": 85,
     "metadata": {},
     "output_type": "execute_result"
    }
   ],
   "execution_count": 85
  },
  {
   "metadata": {
    "ExecuteTime": {
     "end_time": "2025-08-30T13:33:01.783324Z",
     "start_time": "2025-08-30T13:33:01.773680Z"
    }
   },
   "cell_type": "code",
   "source": [
    "# 37. don't use collections.namedtuple\n",
    "from collections import namedtuple\n",
    "MyPoint = namedtuple(typename=\"MyPoint\", field_names=[\"x\", \"y\"])\n",
    "def using_namedtuple() -> MyPoint:\n",
    "    return MyPoint(1, 2)\n",
    "\n",
    "point_wrong_37 = using_namedtuple()\n",
    "point_wrong_37\n"
   ],
   "id": "64308ab3172aa3f4",
   "outputs": [
    {
     "data": {
      "text/plain": [
       "MyPoint(x=1, y=2)"
      ]
     },
     "execution_count": 86,
     "metadata": {},
     "output_type": "execute_result"
    }
   ],
   "execution_count": 86
  },
  {
   "metadata": {
    "ExecuteTime": {
     "end_time": "2025-08-30T13:34:48.239130Z",
     "start_time": "2025-08-30T13:34:48.232458Z"
    }
   },
   "cell_type": "code",
   "source": [
    "# use NamedTuple from typing instead, it's more readable\n",
    "from typing import NamedTuple\n",
    "class MyPoint2(NamedTuple):\n",
    "    x: int\n",
    "    y: int\n",
    "\n",
    "def using_namedtuple_from_typing() -> MyPoint2:\n",
    "    return MyPoint2(1, 2)\n",
    "\n",
    "point_37 = using_namedtuple_from_typing()\n",
    "point_37"
   ],
   "id": "965d4af7af6841",
   "outputs": [
    {
     "data": {
      "text/plain": [
       "MyPoint2(x=1, y=2)"
      ]
     },
     "execution_count": 88,
     "metadata": {},
     "output_type": "execute_result"
    }
   ],
   "execution_count": 88
  }
 ],
 "metadata": {
  "kernelspec": {
   "name": "python3",
   "language": "python",
   "display_name": "Python 3 (ipykernel)"
  }
 },
 "nbformat": 4,
 "nbformat_minor": 5
}
