{
 "cells": [
  {
   "metadata": {
    "ExecuteTime": {
     "end_time": "2025-08-22T20:20:44.980342Z",
     "start_time": "2025-08-22T20:20:44.975825Z"
    }
   },
   "cell_type": "code",
   "source": "# 1. don't do manual formating",
   "id": "4ffffdd98862da3",
   "outputs": [],
   "execution_count": 340
  },
  {
   "metadata": {
    "ExecuteTime": {
     "end_time": "2025-08-22T20:20:45.016689Z",
     "start_time": "2025-08-22T20:20:45.010286Z"
    }
   },
   "cell_type": "code",
   "source": [
    "def print_params(param1: str, param2: str) -> str:\n",
    "    print(\"This is first parameter:\" + param1 + \" and this is second parameter:\" + param2)\n",
    "\n",
    "print_params(\"param1\", \"param2\")\n"
   ],
   "id": "a2d8eba269e6f921",
   "outputs": [
    {
     "name": "stdout",
     "output_type": "stream",
     "text": [
      "This is first parameter:param1 and this is second parameter:param2\n"
     ]
    }
   ],
   "execution_count": 341
  },
  {
   "metadata": {
    "ExecuteTime": {
     "end_time": "2025-08-22T20:20:45.084622Z",
     "start_time": "2025-08-22T20:20:45.078814Z"
    }
   },
   "cell_type": "code",
   "source": [
    "# instead use f-strings\n",
    "def print_params_with_f_string(param1: str, param2: str) -> str:\n",
    "    print(f\"This is first parameter: {param1} and this is second parameter: {param2}\")\n",
    "print_params_with_f_string(\"param1\", \"param2\")"
   ],
   "id": "7e7bea9aeee77b22",
   "outputs": [
    {
     "name": "stdout",
     "output_type": "stream",
     "text": [
      "This is first parameter: param1 and this is second parameter: param2\n"
     ]
    }
   ],
   "execution_count": 342
  },
  {
   "metadata": {
    "ExecuteTime": {
     "end_time": "2025-08-22T20:20:45.163835Z",
     "start_time": "2025-08-22T20:20:45.158385Z"
    }
   },
   "cell_type": "code",
   "source": [
    "import os\n",
    "def display_file_content_and_remove_file(file_path: str):\n",
    "    with open(file_path, 'r') as file:\n",
    "        content = file.read()\n",
    "        print(content)\n",
    "\n",
    "    os.remove(file_path)"
   ],
   "id": "ca2cf0300fb2cafd",
   "outputs": [],
   "execution_count": 343
  },
  {
   "metadata": {
    "ExecuteTime": {
     "end_time": "2025-08-22T20:20:45.198933Z",
     "start_time": "2025-08-22T20:20:45.186802Z"
    }
   },
   "cell_type": "code",
   "source": [
    "# 2. don't close the file manually\n",
    "def closing_file_manually(file_path: str):\n",
    "    file = open(file_path, 'w')\n",
    "    file.write(\"Hello, World!\")\n",
    "    file.close()\n",
    "\n",
    "closing_file_manually(\"test.txt\")\n",
    "display_file_content_and_remove_file(\"test.txt\")"
   ],
   "id": "cc4ab57822762279",
   "outputs": [
    {
     "name": "stdout",
     "output_type": "stream",
     "text": [
      "Hello, World!\n"
     ]
    }
   ],
   "execution_count": 344
  },
  {
   "metadata": {
    "ExecuteTime": {
     "end_time": "2025-08-22T20:20:45.262998Z",
     "start_time": "2025-08-22T20:20:45.251112Z"
    }
   },
   "cell_type": "code",
   "source": [
    "# use with statement instead\n",
    "def using_with_statement(file_path: str):\n",
    "    with open(file_path, 'w') as file:\n",
    "        file.write(\"Hello, World!\")\n",
    "\n",
    "using_with_statement(\"test.txt\")\n",
    "display_file_content_and_remove_file(\"test.txt\")"
   ],
   "id": "d049aa5387dc940e",
   "outputs": [
    {
     "name": "stdout",
     "output_type": "stream",
     "text": [
      "Hello, World!\n"
     ]
    }
   ],
   "execution_count": 345
  },
  {
   "metadata": {
    "ExecuteTime": {
     "end_time": "2025-08-22T20:20:45.349538Z",
     "start_time": "2025-08-22T20:20:45.338274Z"
    }
   },
   "cell_type": "code",
   "source": [
    "# 3. don't use finally instead of context manager\n",
    "def using_finally_instead_of_context_manager(file_path: str):\n",
    "    file = open(file_path, 'w')\n",
    "    try:\n",
    "        file.write(\"Hello, World!\")\n",
    "    finally:\n",
    "        file.close()\n",
    "\n",
    "using_finally_instead_of_context_manager(\"test.txt\")\n",
    "display_file_content_and_remove_file(\"test.txt\")"
   ],
   "id": "ab94704ca823c71d",
   "outputs": [
    {
     "name": "stdout",
     "output_type": "stream",
     "text": [
      "Hello, World!\n"
     ]
    }
   ],
   "execution_count": 346
  },
  {
   "metadata": {
    "ExecuteTime": {
     "end_time": "2025-08-22T20:20:45.428823Z",
     "start_time": "2025-08-22T20:20:45.418055Z"
    }
   },
   "cell_type": "code",
   "source": [
    "# use with statement instead\n",
    "def using_with_statement_instead_of_finally(file_path: str):\n",
    "    with open(file_path, 'w') as file:\n",
    "        file.write(\"Hello, World!\")\n",
    "\n",
    "using_with_statement_instead_of_finally(\"test.txt\")\n",
    "display_file_content_and_remove_file(\"test.txt\")"
   ],
   "id": "13ad1891934fc1a4",
   "outputs": [
    {
     "name": "stdout",
     "output_type": "stream",
     "text": [
      "Hello, World!\n"
     ]
    }
   ],
   "execution_count": 347
  },
  {
   "metadata": {
    "ExecuteTime": {
     "end_time": "2025-08-22T20:20:45.500519Z",
     "start_time": "2025-08-22T20:20:45.495397Z"
    }
   },
   "cell_type": "code",
   "source": [
    "# 4. don't use bare except\n",
    "def using_bare_except():\n",
    "    try:\n",
    "        x = \"a1\"\n",
    "        int(x)\n",
    "    except:\n",
    "        print(\"An error occurred\")\n",
    "\n",
    "using_bare_except()"
   ],
   "id": "1f089460534cb008",
   "outputs": [
    {
     "name": "stdout",
     "output_type": "stream",
     "text": [
      "An error occurred\n"
     ]
    }
   ],
   "execution_count": 348
  },
  {
   "metadata": {
    "ExecuteTime": {
     "end_time": "2025-08-22T20:20:45.565641Z",
     "start_time": "2025-08-22T20:20:45.560194Z"
    }
   },
   "cell_type": "code",
   "source": [
    "# use specific exception instead\n",
    "def using_specific_exception():\n",
    "    try:\n",
    "        x = \"a1\"\n",
    "        int(x)\n",
    "    except ValueError as ex:\n",
    "        print(f\"A ValueError occurred: {ex}\")\n",
    "\n",
    "using_specific_exception()"
   ],
   "id": "d48b2b8f45fecc43",
   "outputs": [
    {
     "name": "stdout",
     "output_type": "stream",
     "text": [
      "A ValueError occurred: invalid literal for int() with base 10: 'a1'\n"
     ]
    }
   ],
   "execution_count": 349
  },
  {
   "metadata": {
    "ExecuteTime": {
     "end_time": "2025-08-22T20:20:45.629435Z",
     "start_time": "2025-08-22T20:20:45.622092Z"
    }
   },
   "cell_type": "code",
   "source": [
    "# 5. don't use carret operator for exponentiation\n",
    "def using_caret_operator_for_exponentiation(base: int, exponent: int) -> int:\n",
    "    return base ^ exponent  # This is a bitwise XOR, not exponentiation\n",
    "\n",
    "exp2to3 = using_caret_operator_for_exponentiation(2, 3)\n",
    "exp2to3"
   ],
   "id": "b6bc5443eb8064a1",
   "outputs": [
    {
     "data": {
      "text/plain": [
       "1"
      ]
     },
     "execution_count": 350,
     "metadata": {},
     "output_type": "execute_result"
    }
   ],
   "execution_count": 350
  },
  {
   "metadata": {
    "ExecuteTime": {
     "end_time": "2025-08-22T20:20:45.700207Z",
     "start_time": "2025-08-22T20:20:45.692571Z"
    }
   },
   "cell_type": "code",
   "source": [
    "# use ** operator instead\n",
    "def using_double_asterisk_for_exponentiation(base: int, exponent: int) -> int:\n",
    "    return base ** exponent\n",
    "\n",
    "exp2to3 = using_double_asterisk_for_exponentiation(2, 3)\n",
    "exp2to3"
   ],
   "id": "d7da6dcd94051450",
   "outputs": [
    {
     "data": {
      "text/plain": [
       "8"
      ]
     },
     "execution_count": 351,
     "metadata": {},
     "output_type": "execute_result"
    }
   ],
   "execution_count": 351
  },
  {
   "metadata": {
    "ExecuteTime": {
     "end_time": "2025-08-22T20:20:45.782088Z",
     "start_time": "2025-08-22T20:20:45.774472Z"
    }
   },
   "cell_type": "code",
   "source": [
    "# 6. don't use mutable default arguments\n",
    "def append_to_list(value, my_list=[]):\n",
    "    my_list.append(value)\n",
    "    return my_list\n",
    "\n",
    "list1 = append_to_list(1)\n",
    "list1"
   ],
   "id": "66a4153d5d37e7d4",
   "outputs": [
    {
     "data": {
      "text/plain": [
       "[1]"
      ]
     },
     "execution_count": 352,
     "metadata": {},
     "output_type": "execute_result"
    }
   ],
   "execution_count": 352
  },
  {
   "metadata": {
    "ExecuteTime": {
     "end_time": "2025-08-22T20:20:45.846839Z",
     "start_time": "2025-08-22T20:20:45.837786Z"
    }
   },
   "cell_type": "code",
   "source": [
    "\n",
    "list2 = append_to_list(2)\n",
    "list2"
   ],
   "id": "5d90820294b01f41",
   "outputs": [
    {
     "data": {
      "text/plain": [
       "[1, 2]"
      ]
     },
     "execution_count": 353,
     "metadata": {},
     "output_type": "execute_result"
    }
   ],
   "execution_count": 353
  },
  {
   "metadata": {
    "ExecuteTime": {
     "end_time": "2025-08-22T20:20:45.934263Z",
     "start_time": "2025-08-22T20:20:45.926641Z"
    }
   },
   "cell_type": "code",
   "source": [
    "# use None as default value instead\n",
    "def append_to_list_safe(value, my_list=None):\n",
    "    if my_list is None:\n",
    "        my_list = []\n",
    "    my_list.append(value)\n",
    "    return my_list\n",
    "\n",
    "list1 = append_to_list_safe(1)\n",
    "list1"
   ],
   "id": "e0d0455fe694c453",
   "outputs": [
    {
     "data": {
      "text/plain": [
       "[1]"
      ]
     },
     "execution_count": 354,
     "metadata": {},
     "output_type": "execute_result"
    }
   ],
   "execution_count": 354
  },
  {
   "metadata": {
    "ExecuteTime": {
     "end_time": "2025-08-22T20:20:45.998594Z",
     "start_time": "2025-08-22T20:20:45.991215Z"
    }
   },
   "cell_type": "code",
   "source": [
    "\n",
    "list2 = append_to_list_safe(2)\n",
    "list2"
   ],
   "id": "70084c5866f23a8c",
   "outputs": [
    {
     "data": {
      "text/plain": [
       "[2]"
      ]
     },
     "execution_count": 355,
     "metadata": {},
     "output_type": "execute_result"
    }
   ],
   "execution_count": 355
  },
  {
   "metadata": {
    "ExecuteTime": {
     "end_time": "2025-08-22T20:20:46.073119Z",
     "start_time": "2025-08-22T20:20:46.065785Z"
    }
   },
   "cell_type": "code",
   "source": [
    "# 7. never using comprehensions\n",
    "def using_for_loop_to_square_numbers(numbers):\n",
    "    squared_numbers = []\n",
    "    for number in numbers:\n",
    "        squared_numbers.append(number ** 2)\n",
    "    return squared_numbers\n",
    "\n",
    "squared = using_for_loop_to_square_numbers([1, 2, 3, 4, 5])\n",
    "squared"
   ],
   "id": "2bd69c3875f4bf1",
   "outputs": [
    {
     "data": {
      "text/plain": [
       "[1, 4, 9, 16, 25]"
      ]
     },
     "execution_count": 356,
     "metadata": {},
     "output_type": "execute_result"
    }
   ],
   "execution_count": 356
  },
  {
   "metadata": {
    "ExecuteTime": {
     "end_time": "2025-08-22T20:20:46.140893Z",
     "start_time": "2025-08-22T20:20:46.133334Z"
    }
   },
   "cell_type": "code",
   "source": [
    "# use list comprehensions instead\n",
    "def using_list_comprehension_to_square_numbers(numbers):\n",
    "    return [number ** 2 for number in numbers]\n",
    "\n",
    "squared = using_list_comprehension_to_square_numbers([1, 2, 3, 4, 5])\n",
    "squared"
   ],
   "id": "1d2679a66a03fe00",
   "outputs": [
    {
     "data": {
      "text/plain": [
       "[1, 4, 9, 16, 25]"
      ]
     },
     "execution_count": 357,
     "metadata": {},
     "output_type": "execute_result"
    }
   ],
   "execution_count": 357
  },
  {
   "metadata": {
    "ExecuteTime": {
     "end_time": "2025-08-22T20:20:46.229096Z",
     "start_time": "2025-08-22T20:20:46.220029Z"
    }
   },
   "cell_type": "code",
   "source": [
    "# 8. always using comprehensions\n",
    "def matrix_product(a, b, n):\n",
    "    # matrix product of a and b of length n x n\n",
    "    return [\n",
    "        sum(a[n*i+k] * b[n*k+j] for k in range(n))\n",
    "        for i in range(n)\n",
    "        for j in range(n)\n",
    "    ]\n",
    "\n",
    "a = [1, 2, 3, 4, 5, 6, 7, 8, 9]\n",
    "b = [9, 8, 7, 6, 5, 4, 3, 2, 1]\n",
    "n = 3\n",
    "output = matrix_product(a, b, n)\n",
    "output"
   ],
   "id": "ce939df89781a3c1",
   "outputs": [
    {
     "data": {
      "text/plain": [
       "[30, 24, 18, 84, 69, 54, 138, 114, 90]"
      ]
     },
     "execution_count": 358,
     "metadata": {},
     "output_type": "execute_result"
    }
   ],
   "execution_count": 358
  },
  {
   "metadata": {
    "ExecuteTime": {
     "end_time": "2025-08-22T20:20:46.303684Z",
     "start_time": "2025-08-22T20:20:46.293138Z"
    }
   },
   "cell_type": "code",
   "source": [
    "# use nested for loops instead\n",
    "def matrix_product_with_loops(a, b, n):\n",
    "    result = []\n",
    "    for i in range(n):\n",
    "        for j in range(n):\n",
    "            sum_product = 0\n",
    "            for k in range(n):\n",
    "                sum_product += a[n*i+k] * b[n*k+j]\n",
    "            result.append(sum_product)\n",
    "    return result\n",
    "\n",
    "a = [1, 2, 3, 4, 5, 6, 7, 8, 9]\n",
    "b = [9, 8, 7, 6, 5, 4, 3, 2, 1]\n",
    "n = 3\n",
    "output = matrix_product_with_loops(a, b, n)\n",
    "output"
   ],
   "id": "50ef5b8119496308",
   "outputs": [
    {
     "data": {
      "text/plain": [
       "[30, 24, 18, 84, 69, 54, 138, 114, 90]"
      ]
     },
     "execution_count": 359,
     "metadata": {},
     "output_type": "execute_result"
    }
   ],
   "execution_count": 359
  },
  {
   "metadata": {
    "ExecuteTime": {
     "end_time": "2025-08-22T20:20:46.395771Z",
     "start_time": "2025-08-22T20:20:46.386571Z"
    }
   },
   "cell_type": "code",
   "source": [
    "# 9 don't check for type using ==\n",
    "from collections import namedtuple\n",
    "MyTuple = namedtuple(typename=\"MyTuple\", field_names=[\"a\", \"b\", \"c\"])\n",
    "\n",
    "def check_type_using_equals(value):\n",
    "    if type(value) == tuple:\n",
    "        return \"It's a tuple\"\n",
    "    elif type(value) == str:\n",
    "        return \"It's a string\"\n",
    "    else:\n",
    "        return \"Unknown type\"\n",
    "\n",
    "\n",
    "x = MyTuple(1, 2, 3)\n",
    "output = check_type_using_equals(x)\n",
    "output"
   ],
   "id": "f8b258bd4d765776",
   "outputs": [
    {
     "data": {
      "text/plain": [
       "'Unknown type'"
      ]
     },
     "execution_count": 360,
     "metadata": {},
     "output_type": "execute_result"
    }
   ],
   "execution_count": 360
  },
  {
   "metadata": {
    "ExecuteTime": {
     "end_time": "2025-08-22T20:20:46.498230Z",
     "start_time": "2025-08-22T20:20:46.490721Z"
    }
   },
   "cell_type": "code",
   "source": [
    "# use isinstance instead\n",
    "def check_type_using_isinstance(value):\n",
    "    if isinstance(value, tuple):\n",
    "        return \"It's a tuple\"\n",
    "    elif isinstance(value, str):\n",
    "        return \"It's a string\"\n",
    "    else:\n",
    "        return \"Unknown type\"\n",
    "\n",
    "x = MyTuple(1, 2, 3)\n",
    "output = check_type_using_isinstance(x)\n",
    "output"
   ],
   "id": "a0b79f809e6b7791",
   "outputs": [
    {
     "data": {
      "text/plain": [
       "\"It's a tuple\""
      ]
     },
     "execution_count": 361,
     "metadata": {},
     "output_type": "execute_result"
    }
   ],
   "execution_count": 361
  },
  {
   "metadata": {
    "ExecuteTime": {
     "end_time": "2025-08-22T20:20:46.625622Z",
     "start_time": "2025-08-22T20:20:46.617151Z"
    }
   },
   "cell_type": "code",
   "source": [
    "\n",
    "# 10. don't use == to check for None, or True, or False\n",
    "def check_for_none_using_equals(value):\n",
    "    if value == None:\n",
    "        return \"It's None\"\n",
    "    elif value == True:\n",
    "        return \"It's True\"\n",
    "    elif value == False:\n",
    "        return \"It's False\"\n",
    "    else:\n",
    "        return \"Unknown value\"\n",
    "\n",
    "output = check_for_none_using_equals(None)\n",
    "output"
   ],
   "id": "8ca8db58818ab419",
   "outputs": [
    {
     "data": {
      "text/plain": [
       "\"It's None\""
      ]
     },
     "execution_count": 362,
     "metadata": {},
     "output_type": "execute_result"
    }
   ],
   "execution_count": 362
  },
  {
   "metadata": {
    "ExecuteTime": {
     "end_time": "2025-08-22T20:20:46.716681Z",
     "start_time": "2025-08-22T20:20:46.710406Z"
    }
   },
   "cell_type": "code",
   "source": [
    "output = check_for_none_using_equals(True)\n",
    "output\n"
   ],
   "id": "3a34f1103133acb4",
   "outputs": [
    {
     "data": {
      "text/plain": [
       "\"It's True\""
      ]
     },
     "execution_count": 363,
     "metadata": {},
     "output_type": "execute_result"
    }
   ],
   "execution_count": 363
  },
  {
   "metadata": {
    "ExecuteTime": {
     "end_time": "2025-08-22T20:20:46.799763Z",
     "start_time": "2025-08-22T20:20:46.792054Z"
    }
   },
   "cell_type": "code",
   "source": [
    "# use is or is not instead\n",
    "def check_for_none_using_is(value):\n",
    "    if value is None:\n",
    "        return \"It's None\"\n",
    "    elif value is True:\n",
    "        return \"It's True\"\n",
    "    elif value is False:\n",
    "        return \"It's False\"\n",
    "    else:\n",
    "        return \"Unknown value\"\n",
    "\n",
    "output = check_for_none_using_is(None)\n",
    "output"
   ],
   "id": "1c0b5551f883a42a",
   "outputs": [
    {
     "data": {
      "text/plain": [
       "\"It's None\""
      ]
     },
     "execution_count": 364,
     "metadata": {},
     "output_type": "execute_result"
    }
   ],
   "execution_count": 364
  },
  {
   "metadata": {
    "ExecuteTime": {
     "end_time": "2025-08-22T20:20:46.884119Z",
     "start_time": "2025-08-22T20:20:46.876727Z"
    }
   },
   "cell_type": "code",
   "source": [
    "# 11. don't check for bool or len\n",
    "\n",
    "def check_for_bool_or_len(value):\n",
    "    if bool(value):\n",
    "        return \"It's True\"\n",
    "\n",
    "    if len(value) > 0:\n",
    "        return \"It's non-empty\"\n",
    "\n",
    "    return \"It's False or empty\"\n",
    "\n",
    "output = check_for_bool_or_len([1, 2, 3])\n",
    "output"
   ],
   "id": "d7b21e193c7fd5f1",
   "outputs": [
    {
     "data": {
      "text/plain": [
       "\"It's True\""
      ]
     },
     "execution_count": 365,
     "metadata": {},
     "output_type": "execute_result"
    }
   ],
   "execution_count": 365
  },
  {
   "metadata": {
    "ExecuteTime": {
     "end_time": "2025-08-22T20:20:46.991597Z",
     "start_time": "2025-08-22T20:20:46.983993Z"
    }
   },
   "cell_type": "code",
   "source": [
    "output = check_for_bool_or_len([])\n",
    "output"
   ],
   "id": "348d2bfba9b7a778",
   "outputs": [
    {
     "data": {
      "text/plain": [
       "\"It's False or empty\""
      ]
     },
     "execution_count": 366,
     "metadata": {},
     "output_type": "execute_result"
    }
   ],
   "execution_count": 366
  },
  {
   "metadata": {
    "ExecuteTime": {
     "end_time": "2025-08-22T20:20:47.081615Z",
     "start_time": "2025-08-22T20:20:47.075085Z"
    }
   },
   "cell_type": "code",
   "source": [
    "# use implicit boolean context instead\n",
    "def check_for_bool_or_len_implicitly(value):\n",
    "    if value:\n",
    "        return \"It's True or non-empty\"\n",
    "    return \"It's False or empty\"\n",
    "\n",
    "output = check_for_bool_or_len_implicitly([1, 2, 3])\n",
    "output\n"
   ],
   "id": "501384e1792804b8",
   "outputs": [
    {
     "data": {
      "text/plain": [
       "\"It's True or non-empty\""
      ]
     },
     "execution_count": 367,
     "metadata": {},
     "output_type": "execute_result"
    }
   ],
   "execution_count": 367
  },
  {
   "metadata": {
    "ExecuteTime": {
     "end_time": "2025-08-22T20:20:47.158022Z",
     "start_time": "2025-08-22T20:20:47.151634Z"
    }
   },
   "cell_type": "code",
   "source": [
    "# 12. don't use range len idiom\n",
    "def using_range_len_to_iterate_list(my_list):\n",
    "\n",
    "    for i in range(len(my_list)):\n",
    "        print(my_list[i])\n",
    "\n",
    "my_list = [1, 2, 3]\n",
    "using_range_len_to_iterate_list(my_list)"
   ],
   "id": "ffd8ad33e4d82777",
   "outputs": [
    {
     "name": "stdout",
     "output_type": "stream",
     "text": [
      "1\n",
      "2\n",
      "3\n"
     ]
    }
   ],
   "execution_count": 368
  },
  {
   "metadata": {
    "ExecuteTime": {
     "end_time": "2025-08-22T20:20:47.228447Z",
     "start_time": "2025-08-22T20:20:47.223166Z"
    }
   },
   "cell_type": "code",
   "source": [
    "# use direct iteration instead\n",
    "def using_direct_iteration_to_iterate_list(my_list):\n",
    "    for item in my_list:\n",
    "        print(item)\n",
    "\n",
    "my_list = [1, 2, 3]\n",
    "using_direct_iteration_to_iterate_list(my_list)"
   ],
   "id": "e49cacfcabd04a0d",
   "outputs": [
    {
     "name": "stdout",
     "output_type": "stream",
     "text": [
      "1\n",
      "2\n",
      "3\n"
     ]
    }
   ],
   "execution_count": 369
  },
  {
   "metadata": {
    "ExecuteTime": {
     "end_time": "2025-08-22T20:20:47.302091Z",
     "start_time": "2025-08-22T20:20:47.296396Z"
    }
   },
   "cell_type": "code",
   "source": [
    "# use enumerate to get index and value\n",
    "def using_enumerate_to_get_index_and_value(my_list):\n",
    "    for index, item in enumerate(my_list):\n",
    "        print(f\"Index: {index}, Value: {item}\")\n",
    "\n",
    "my_list = [1, 2, 3]\n",
    "using_enumerate_to_get_index_and_value(my_list)\n"
   ],
   "id": "e85477eb0c757d02",
   "outputs": [
    {
     "name": "stdout",
     "output_type": "stream",
     "text": [
      "Index: 0, Value: 1\n",
      "Index: 1, Value: 2\n",
      "Index: 2, Value: 3\n"
     ]
    }
   ],
   "execution_count": 370
  },
  {
   "metadata": {
    "ExecuteTime": {
     "end_time": "2025-08-22T20:20:47.380659Z",
     "start_time": "2025-08-22T20:20:47.372977Z"
    }
   },
   "cell_type": "code",
   "source": [
    "# use zip to iterate over multiple lists\n",
    "def using_zip_to_iterate_over_multiple_lists(list1, list2):\n",
    "    for id, (item1, item2) in enumerate(zip(list1, list2)):\n",
    "        print(f\"Index: {id}, List1 Value: {item1}, List2 Value: {item2}\")\n",
    "\n",
    "list1 = [1, 2, 3]\n",
    "list2 = ['a', 'b', 'c']\n",
    "using_zip_to_iterate_over_multiple_lists(list1, list2)\n"
   ],
   "id": "44993b0023b84df3",
   "outputs": [
    {
     "name": "stdout",
     "output_type": "stream",
     "text": [
      "Index: 0, List1 Value: 1, List2 Value: a\n",
      "Index: 1, List1 Value: 2, List2 Value: b\n",
      "Index: 2, List1 Value: 3, List2 Value: c\n"
     ]
    }
   ],
   "execution_count": 371
  },
  {
   "metadata": {
    "ExecuteTime": {
     "end_time": "2025-08-22T20:20:47.445956Z",
     "start_time": "2025-08-22T20:20:47.439327Z"
    }
   },
   "cell_type": "code",
   "source": [
    "# 13. don't iterate over dictionary keys to get values\n",
    "def iterating_over_dict_keys_to_get_values(my_dict):\n",
    "    for key in my_dict.keys():\n",
    "        print(f\"Key: {key}, Value: {my_dict[key]}\")\n",
    "\n",
    "my_dict = {'a': 1, 'b': 2, 'c': 3}\n",
    "iterating_over_dict_keys_to_get_values(my_dict)\n"
   ],
   "id": "b52c71c5ec53d1d9",
   "outputs": [
    {
     "name": "stdout",
     "output_type": "stream",
     "text": [
      "Key: a, Value: 1\n",
      "Key: b, Value: 2\n",
      "Key: c, Value: 3\n"
     ]
    }
   ],
   "execution_count": 372
  },
  {
   "metadata": {
    "ExecuteTime": {
     "end_time": "2025-08-22T20:20:47.528644Z",
     "start_time": "2025-08-22T20:20:47.522231Z"
    }
   },
   "cell_type": "code",
   "source": [
    "# use items() to get key and value\n",
    "def using_items_to_get_key_and_value(my_dict):\n",
    "    for key, value in my_dict.items():\n",
    "        print(f\"Key: {key}, Value: {value}\")\n",
    "\n",
    "my_dict = {'a': 1, 'b': 2, 'c': 3}\n",
    "using_items_to_get_key_and_value(my_dict)"
   ],
   "id": "48c469287e1763a2",
   "outputs": [
    {
     "name": "stdout",
     "output_type": "stream",
     "text": [
      "Key: a, Value: 1\n",
      "Key: b, Value: 2\n",
      "Key: c, Value: 3\n"
     ]
    }
   ],
   "execution_count": 373
  },
  {
   "metadata": {
    "ExecuteTime": {
     "end_time": "2025-08-22T20:20:47.607311Z",
     "start_time": "2025-08-22T20:20:47.600084Z"
    }
   },
   "cell_type": "code",
   "source": [
    "# use default for dict to get all keys\n",
    "def using_default_for_dict_to_get_all_keys(my_dict):\n",
    "    for key in my_dict:\n",
    "        print(f\"Key: {key}, Value: {my_dict[key]}\")\n",
    "\n",
    "my_dict = {'a': 1, 'b': 2, 'c': 3}\n",
    "using_default_for_dict_to_get_all_keys(my_dict)"
   ],
   "id": "5438dd0ecb8c86b",
   "outputs": [
    {
     "name": "stdout",
     "output_type": "stream",
     "text": [
      "Key: a, Value: 1\n",
      "Key: b, Value: 2\n",
      "Key: c, Value: 3\n"
     ]
    }
   ],
   "execution_count": 374
  },
  {
   "metadata": {
    "ExecuteTime": {
     "end_time": "2025-08-22T20:20:47.687321Z",
     "start_time": "2025-08-22T20:20:47.679360Z"
    }
   },
   "cell_type": "code",
   "source": [
    "\n",
    "# 14. don't use tuple unpacking\n",
    "def without_tuple_unpacking():\n",
    "    point = (1, 2)\n",
    "    x = point[0]\n",
    "    y = point[1]\n",
    "    return x, y\n",
    "\n",
    "x, y = without_tuple_unpacking()\n",
    "x, y"
   ],
   "id": "31150cfb5d1a8f68",
   "outputs": [
    {
     "data": {
      "text/plain": [
       "(1, 2)"
      ]
     },
     "execution_count": 375,
     "metadata": {},
     "output_type": "execute_result"
    }
   ],
   "execution_count": 375
  },
  {
   "metadata": {
    "ExecuteTime": {
     "end_time": "2025-08-22T20:20:47.771215Z",
     "start_time": "2025-08-22T20:20:47.763994Z"
    }
   },
   "cell_type": "code",
   "source": [
    "# use tuple unpacking instead\n",
    "def with_tuple_unpacking():\n",
    "    point = (1, 2)\n",
    "    x, y = point\n",
    "    return x, y\n",
    "\n",
    "x, y = with_tuple_unpacking()\n",
    "x, y\n"
   ],
   "id": "a7fe3d847399618a",
   "outputs": [
    {
     "data": {
      "text/plain": [
       "(1, 2)"
      ]
     },
     "execution_count": 376,
     "metadata": {},
     "output_type": "execute_result"
    }
   ],
   "execution_count": 376
  },
  {
   "metadata": {
    "ExecuteTime": {
     "end_time": "2025-08-22T20:20:47.837743Z",
     "start_time": "2025-08-22T20:20:47.829586Z"
    }
   },
   "cell_type": "code",
   "source": [
    "# 15. don't create counter variable in loops\n",
    "def using_counter_variable_in_loop(n):\n",
    "    total = 0\n",
    "    for i in range(n):\n",
    "        total += 1\n",
    "\n",
    "    return total\n",
    "\n",
    "result = using_counter_variable_in_loop(5)\n",
    "result"
   ],
   "id": "64998cba6ef727d1",
   "outputs": [
    {
     "data": {
      "text/plain": [
       "5"
      ]
     },
     "execution_count": 377,
     "metadata": {},
     "output_type": "execute_result"
    }
   ],
   "execution_count": 377
  },
  {
   "metadata": {
    "ExecuteTime": {
     "end_time": "2025-08-22T20:20:47.906279Z",
     "start_time": "2025-08-22T20:20:47.898943Z"
    }
   },
   "cell_type": "code",
   "source": [
    "# use enumerate instead\n",
    "def using_enumerate_in_loop(n):\n",
    "    for v, _ in enumerate(range(n)):\n",
    "        pass\n",
    "    return v + 1  # since v is zero-indexed\n",
    "\n",
    "result = using_enumerate_in_loop(5)\n",
    "result\n"
   ],
   "id": "cfacc80056c61f25",
   "outputs": [
    {
     "data": {
      "text/plain": [
       "5"
      ]
     },
     "execution_count": 378,
     "metadata": {},
     "output_type": "execute_result"
    }
   ],
   "execution_count": 378
  },
  {
   "metadata": {
    "ExecuteTime": {
     "end_time": "2025-08-22T20:20:48.013503Z",
     "start_time": "2025-08-22T20:20:47.959743Z"
    }
   },
   "cell_type": "code",
   "source": [
    "# 16. don't use time.time for measuring elapsed time\n",
    "import time\n",
    "def using_time_time_to_measure_elapsed_time():\n",
    "    start = time.time()\n",
    "    total = sum(range(1000000))\n",
    "    end = time.time()\n",
    "    elapsed = end - start\n",
    "    return elapsed, total\n",
    "\n",
    "elapsed, total = using_time_time_to_measure_elapsed_time()\n",
    "elapsed, total"
   ],
   "id": "f98b2c6b88b1cc",
   "outputs": [
    {
     "data": {
      "text/plain": [
       "(0.04599475860595703, 499999500000)"
      ]
     },
     "execution_count": 379,
     "metadata": {},
     "output_type": "execute_result"
    }
   ],
   "execution_count": 379
  },
  {
   "metadata": {
    "ExecuteTime": {
     "end_time": "2025-08-22T20:20:48.099942Z",
     "start_time": "2025-08-22T20:20:48.045925Z"
    }
   },
   "cell_type": "code",
   "source": [
    "# use time.perf_counter instead\n",
    "def using_time_perf_counter_to_measure_elapsed_time():\n",
    "    start = time.perf_counter()\n",
    "    total = sum(range(1000000))\n",
    "    end = time.perf_counter()\n",
    "    elapsed = end - start\n",
    "    return elapsed, total\n",
    "\n",
    "elapsed, total = using_time_perf_counter_to_measure_elapsed_time()\n",
    "round(elapsed, 5), total"
   ],
   "id": "7e6b8b92625ea545",
   "outputs": [
    {
     "data": {
      "text/plain": [
       "(0.04499, 499999500000)"
      ]
     },
     "execution_count": 380,
     "metadata": {},
     "output_type": "execute_result"
    }
   ],
   "execution_count": 380
  },
  {
   "metadata": {
    "ExecuteTime": {
     "end_time": "2025-08-22T20:20:48.138301Z",
     "start_time": "2025-08-22T20:20:48.131282Z"
    }
   },
   "cell_type": "code",
   "source": [
    "# 17. don't use print for logging\n",
    "def using_print_for_logging(message: str):\n",
    "    print(f\"LOG: {message}\")\n",
    "\n",
    "using_print_for_logging(\"This is a log message\")\n"
   ],
   "id": "dc0843d1301d989a",
   "outputs": [
    {
     "name": "stdout",
     "output_type": "stream",
     "text": [
      "LOG: This is a log message\n"
     ]
    }
   ],
   "execution_count": 381
  },
  {
   "metadata": {
    "ExecuteTime": {
     "end_time": "2025-08-22T20:20:48.199340Z",
     "start_time": "2025-08-22T20:20:48.193785Z"
    }
   },
   "cell_type": "code",
   "source": [
    "# use logging module instead\n",
    "import logging\n",
    "logging.basicConfig(level=logging.INFO)\n",
    "def using_logging_module_for_logging(message: str):\n",
    "    logging.info(message)\n",
    "\n",
    "using_logging_module_for_logging(\"This is a log message\")\n"
   ],
   "id": "91bdae1f4fa151d0",
   "outputs": [
    {
     "name": "stderr",
     "output_type": "stream",
     "text": [
      "INFO:root:This is a log message\n"
     ]
    }
   ],
   "execution_count": 382
  },
  {
   "metadata": {
    "ExecuteTime": {
     "end_time": "2025-08-22T20:20:48.307737Z",
     "start_time": "2025-08-22T20:20:48.258167Z"
    }
   },
   "cell_type": "code",
   "source": [
    "# don't use shell=True with subprocess\n",
    "import subprocess\n",
    "def using_shell_true_with_subprocess(command: str):\n",
    "    result = subprocess.run(command, shell=True, capture_output=True, text=True)\n",
    "    return result.stdout\n",
    "output = using_shell_true_with_subprocess(\"echo Hello, World!\")\n",
    "output\n"
   ],
   "id": "2402e45666fd1210",
   "outputs": [
    {
     "data": {
      "text/plain": [
       "'Hello, World!\\n'"
      ]
     },
     "execution_count": 383,
     "metadata": {},
     "output_type": "execute_result"
    }
   ],
   "execution_count": 383
  },
  {
   "metadata": {
    "ExecuteTime": {
     "end_time": "2025-08-22T20:20:48.344051Z",
     "start_time": "2025-08-22T20:20:48.338916Z"
    }
   },
   "cell_type": "code",
   "source": [
    "# use list of arguments instead\n",
    "def using_list_of_arguments_with_subprocess(command: list):\n",
    "    result = subprocess.run(command, capture_output=True)\n",
    "    return result.stdout\n",
    "\n",
    "# it doesn't work on Windows\n"
   ],
   "id": "6b1bb4a1681abc00",
   "outputs": [],
   "execution_count": 384
  },
  {
   "metadata": {
    "ExecuteTime": {
     "end_time": "2025-08-22T20:20:48.379952Z",
     "start_time": "2025-08-22T20:20:48.371557Z"
    }
   },
   "cell_type": "code",
   "source": [
    "# 19. not using numpy fo array operations\n",
    "def using_list_for_array_operations(size: int):\n",
    "    a = list(range(size))\n",
    "    b = list(range(size))\n",
    "    c = [a[i] + b[i] for i in range(size)]\n",
    "    return c\n",
    "\n",
    "result = using_list_for_array_operations(5)\n",
    "result\n"
   ],
   "id": "f27cc0d87aa5818c",
   "outputs": [
    {
     "data": {
      "text/plain": [
       "[0, 2, 4, 6, 8]"
      ]
     },
     "execution_count": 385,
     "metadata": {},
     "output_type": "execute_result"
    }
   ],
   "execution_count": 385
  },
  {
   "metadata": {
    "ExecuteTime": {
     "end_time": "2025-08-22T20:20:48.439595Z",
     "start_time": "2025-08-22T20:20:48.431365Z"
    }
   },
   "cell_type": "code",
   "source": [
    "# use numpy instead\n",
    "import numpy as np\n",
    "def using_numpy_for_array_operations(size: int):\n",
    "    a = np.arange(size)\n",
    "    b = np.arange(size)\n",
    "    return a + b\n",
    "\n",
    "result = using_numpy_for_array_operations(5)\n",
    "result\n"
   ],
   "id": "8c7170db68dea22d",
   "outputs": [
    {
     "data": {
      "text/plain": [
       "array([0, 2, 4, 6, 8])"
      ]
     },
     "execution_count": 386,
     "metadata": {},
     "output_type": "execute_result"
    }
   ],
   "execution_count": 386
  },
  {
   "metadata": {
    "ExecuteTime": {
     "end_time": "2025-08-22T20:20:48.509069Z",
     "start_time": "2025-08-22T20:20:48.500561Z"
    }
   },
   "cell_type": "code",
   "source": [
    "# 19. don't use * in the import statement\n",
    "from itertools import *\n",
    "def using_star_in_import_statement():\n",
    "    return count()\n",
    "\n",
    "counter = using_star_in_import_statement()\n",
    "next(counter)\n"
   ],
   "id": "38f194df73b4e1c1",
   "outputs": [
    {
     "data": {
      "text/plain": [
       "0"
      ]
     },
     "execution_count": 387,
     "metadata": {},
     "output_type": "execute_result"
    }
   ],
   "execution_count": 387
  },
  {
   "metadata": {
    "ExecuteTime": {
     "end_time": "2025-08-22T20:20:48.576936Z",
     "start_time": "2025-08-22T20:20:48.570563Z"
    }
   },
   "cell_type": "code",
   "source": [
    "# use explicit imports instead\n",
    "from itertools import count\n",
    "def using_explicit_imports():\n",
    "    return count()\n",
    "counter = using_explicit_imports()\n",
    "next(counter)\n"
   ],
   "id": "83f2225eef625f29",
   "outputs": [
    {
     "data": {
      "text/plain": [
       "0"
      ]
     },
     "execution_count": 388,
     "metadata": {},
     "output_type": "execute_result"
    }
   ],
   "execution_count": 388
  },
  {
   "metadata": {
    "ExecuteTime": {
     "end_time": "2025-08-22T20:20:48.662743Z",
     "start_time": "2025-08-22T20:20:48.653955Z"
    }
   },
   "cell_type": "code",
   "source": [
    "# 20. don't use mutable objects as keys in dictionaries\n",
    "def using_mutable_object_as_dict_key():\n",
    "    my_dict = {}\n",
    "    my_list = [1, 2, 3]\n",
    "    try:\n",
    "        my_dict[my_list] = \"This is a list\"\n",
    "    except TypeError as e:\n",
    "        return str(e)\n",
    "\n",
    "error_message = using_mutable_object_as_dict_key()\n",
    "error_message\n"
   ],
   "id": "55b16d904b980015",
   "outputs": [
    {
     "data": {
      "text/plain": [
       "\"unhashable type: 'list'\""
      ]
     },
     "execution_count": 389,
     "metadata": {},
     "output_type": "execute_result"
    }
   ],
   "execution_count": 389
  },
  {
   "metadata": {
    "ExecuteTime": {
     "end_time": "2025-08-22T20:20:48.753449Z",
     "start_time": "2025-08-22T20:20:48.749174Z"
    }
   },
   "cell_type": "code",
   "source": "# 21.",
   "id": "101e77d8003a2266",
   "outputs": [],
   "execution_count": 390
  }
 ],
 "metadata": {},
 "nbformat": 4,
 "nbformat_minor": 5
}
