{
 "cells": [
  {
   "cell_type": "code",
   "id": "initial_id",
   "metadata": {
    "collapsed": true,
    "ExecuteTime": {
     "end_time": "2025-08-30T23:36:49.206252Z",
     "start_time": "2025-08-30T23:36:49.196759Z"
    }
   },
   "source": [
    "import matplotlib.pyplot as plt\n",
    "import numpy as np\n",
    "import time\n",
    "from sklearn import datasets, svm, metrics\n",
    "from sklearn.datasets import fetch_openml\n",
    "from sklearn.model_selection import train_test_split\n"
   ],
   "outputs": [],
   "execution_count": 70
  },
  {
   "metadata": {
    "ExecuteTime": {
     "end_time": "2025-08-30T23:36:54.901329Z",
     "start_time": "2025-08-30T23:36:49.246294Z"
    }
   },
   "cell_type": "code",
   "source": [
    "mnist = fetch_openml('mnist_784', version='active')\n",
    "images = mnist.data\n",
    "labels = mnist.target\n",
    "\n",
    "shape = images.shape\n",
    "shape\n",
    "\n"
   ],
   "id": "fd8591646474a8a2",
   "outputs": [
    {
     "data": {
      "text/plain": [
       "(70000, 784)"
      ]
     },
     "execution_count": 71,
     "metadata": {},
     "output_type": "execute_result"
    }
   ],
   "execution_count": 71
  },
  {
   "metadata": {
    "ExecuteTime": {
     "end_time": "2025-08-30T23:36:55.240197Z",
     "start_time": "2025-08-30T23:36:55.043347Z"
    }
   },
   "cell_type": "code",
   "source": [
    "im0 = images.iloc[0].to_numpy().reshape(28, 28)\n",
    "plt.imshow(im0, cmap='gray', interpolation='nearest')\n",
    "plt.title(f\"Digit: {labels[0]}\")\n",
    "plt.show()"
   ],
   "id": "749de52c9d6ce7fd",
   "outputs": [
    {
     "data": {
      "text/plain": [
       "<Figure size 640x480 with 1 Axes>"
      ],
      "image/png": "[encoded data removed]"
     },
     "metadata": {},
     "output_type": "display_data"
    }
   ],
   "execution_count": 72
  },
  {
   "metadata": {
    "ExecuteTime": {
     "end_time": "2025-08-30T23:36:55.488958Z",
     "start_time": "2025-08-30T23:36:55.281230Z"
    }
   },
   "cell_type": "code",
   "source": [
    "# Prepare a subset of data\n",
    "size = 10000\n",
    "rand_idx = np.random.choice(images.shape[0], size)\n",
    "data_X = images.iloc[rand_idx] / 255.0\n",
    "Y = labels.iloc[rand_idx]\n",
    "X_train, X_test, y_train, y_test = train_test_split(data_X, Y, test_size=0.15, random_state=42)\n",
    "\n",
    "X_train.shape, X_test.shape\n",
    "\n"
   ],
   "id": "bb3ae32e9885bd7",
   "outputs": [
    {
     "data": {
      "text/plain": [
       "((8500, 784), (1500, 784))"
      ]
     },
     "execution_count": 73,
     "metadata": {},
     "output_type": "execute_result"
    }
   ],
   "execution_count": 73
  },
  {
   "metadata": {
    "ExecuteTime": {
     "end_time": "2025-08-30T23:36:55.570893Z",
     "start_time": "2025-08-30T23:36:55.566069Z"
    }
   },
   "cell_type": "code",
   "source": "",
   "id": "282408ba53c539a2",
   "outputs": [],
   "execution_count": null
  },
  {
   "metadata": {
    "ExecuteTime": {
     "end_time": "2025-08-30T23:37:18.810042Z",
     "start_time": "2025-08-30T23:36:55.628127Z"
    }
   },
   "cell_type": "code",
   "source": [
    "# create a classifier: a support vector classifier\n",
    "classifier = svm.SVC(C=1, gamma=0.001)\n",
    "start_time = time.perf_counter()\n",
    "# We learn the digits on the first half of the digits\n",
    "classifier.fit(X_train, y_train)\n",
    "end_time = time.perf_counter()\n",
    "print(f\"Training time: {end_time - start_time:.4f} seconds\")\n"
   ],
   "id": "3b15119b009c367b",
   "outputs": [
    {
     "name": "stdout",
     "output_type": "stream",
     "text": [
      "Training time: 23.1720 seconds\n"
     ]
    }
   ],
   "execution_count": 74
  },
  {
   "metadata": {
    "ExecuteTime": {
     "end_time": "2025-08-30T23:37:24.375895Z",
     "start_time": "2025-08-30T23:37:18.915694Z"
    }
   },
   "cell_type": "code",
   "source": [
    "expected = y_test\n",
    "predicted = classifier.predict(X_test)\n",
    "\n",
    "# plot n-first expected and predicted values\n",
    "n = 10\n",
    "plt.figure(figsize=(12, 6))\n",
    "for i in range(n):\n",
    "    plt.subplot(2, n, i + 1)\n",
    "    plt.imshow(X_test.iloc[i].to_numpy().reshape(28, 28), cmap='gray', interpolation='nearest')\n",
    "    plt.title(f\"E: {expected.iloc[i]} P: {predicted[i]}\")\n",
    "    plt.axis('off')\n",
    "\n"
   ],
   "id": "6bae910674cb8749",
   "outputs": [
    {
     "data": {
      "text/plain": [
       "<Figure size 1200x600 with 10 Axes>"
      ],
      "image/png": "[encoded data removed]"
     },
     "metadata": {},
     "output_type": "display_data"
    }
   ],
   "execution_count": 75
  }
 ],
 "metadata": {
  "kernelspec": {
   "display_name": "Python 3",
   "language": "python",
   "name": "python3"
  },
  "language_info": {
   "codemirror_mode": {
    "name": "ipython",
    "version": 2
   },
   "file_extension": ".py",
   "mimetype": "text/x-python",
   "name": "python",
   "nbconvert_exporter": "python",
   "pygments_lexer": "ipython2",
   "version": "2.7.6"
  }
 },
 "nbformat": 4,
 "nbformat_minor": 5
}
