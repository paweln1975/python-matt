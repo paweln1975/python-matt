{
 "cells": [
  {
   "cell_type": "code",
   "id": "initial_id",
   "metadata": {
    "collapsed": true,
    "ExecuteTime": {
     "end_time": "2025-08-31T19:54:39.063788Z",
     "start_time": "2025-08-31T19:54:39.059791Z"
    }
   },
   "source": [
    "import matplotlib.pyplot as plt\n",
    "import numpy as np\n",
    "import pandas as pd\n",
    "import time\n",
    "from sklearn import svm\n",
    "from sklearn.datasets import fetch_openml\n",
    "from sklearn.metrics import accuracy_score,classification_report\n",
    "from sklearn.neighbors import KNeighborsClassifier\n",
    "from PIL import Image\n",
    "\n"
   ],
   "outputs": [],
   "execution_count": 42
  },
  {
   "metadata": {
    "ExecuteTime": {
     "end_time": "2025-08-31T19:54:47.084008Z",
     "start_time": "2025-08-31T19:54:42.940297Z"
    }
   },
   "cell_type": "code",
   "source": [
    "mnist = fetch_openml('mnist_784', version='active')\n",
    "images = mnist.data\n",
    "labels = mnist.target\n",
    "\n",
    "shape = images.shape\n",
    "shape\n",
    "\n"
   ],
   "id": "fd8591646474a8a2",
   "outputs": [
    {
     "data": {
      "text/plain": [
       "(70000, 784)"
      ]
     },
     "execution_count": 43,
     "metadata": {},
     "output_type": "execute_result"
    }
   ],
   "execution_count": 43
  },
  {
   "metadata": {
    "ExecuteTime": {
     "end_time": "2025-08-31T19:55:23.205318Z",
     "start_time": "2025-08-31T19:55:22.430780Z"
    }
   },
   "cell_type": "code",
   "source": [
    "# Prepare a subset of data\n",
    "size = 70000\n",
    "train_size = int(size * 0.8)\n",
    "\n",
    "index_number = np.random.permutation(size)\n",
    "data_X = images.iloc[index_number] / 255.0\n",
    "Y = labels.iloc[index_number]\n",
    "\n",
    "X_train, X_test = data_X[:train_size], data_X[train_size:]\n",
    "y_train, y_test = Y[:train_size], Y[train_size:]\n"
   ],
   "id": "bb3ae32e9885bd7",
   "outputs": [],
   "execution_count": 44
  },
  {
   "metadata": {
    "ExecuteTime": {
     "end_time": "2025-08-31T20:00:14.135875Z",
     "start_time": "2025-08-31T19:56:04.957486Z"
    }
   },
   "cell_type": "code",
   "source": [
    "# create a classifier: a support vector classifier\n",
    "classifier = svm.SVC(C=1, gamma='scale')\n",
    "start_time = time.perf_counter()\n",
    "\n",
    "classifier.fit(X_train, y_train)\n",
    "end_time = time.perf_counter()\n",
    "print(f\"Training time: {end_time - start_time:.4f} seconds\")\n"
   ],
   "id": "3b15119b009c367b",
   "outputs": [
    {
     "name": "stdout",
     "output_type": "stream",
     "text": [
      "Training time: 249.1673 seconds\n"
     ]
    }
   ],
   "execution_count": 45
  },
  {
   "metadata": {
    "ExecuteTime": {
     "end_time": "2025-08-31T20:02:23.509973Z",
     "start_time": "2025-08-31T20:00:23.740862Z"
    }
   },
   "cell_type": "code",
   "source": [
    "expected = y_test\n",
    "predicted = classifier.predict(X_test)\n",
    "\n",
    "# plot n-first expected and predicted values\n",
    "n = 10\n",
    "plt.figure(figsize=(12, 6))\n",
    "for i in range(n):\n",
    "    plt.subplot(2, n, i + 1)\n",
    "    plt.imshow(X_test.iloc[i].to_numpy().reshape(28, 28), cmap=plt.cm.gray, interpolation='nearest')\n",
    "    plt.title(f\"E: {expected.iloc[i]} P: {predicted[i]}\")\n",
    "    plt.axis('off')\n",
    "\n"
   ],
   "id": "6bae910674cb8749",
   "outputs": [
    {
     "data": {
      "text/plain": [
       "<Figure size 1200x600 with 10 Axes>"
      ],
      "image/png": "[encoded data removed]"
     },
     "metadata": {},
     "output_type": "display_data"
    }
   ],
   "execution_count": 46
  },
  {
   "metadata": {
    "ExecuteTime": {
     "end_time": "2025-08-31T20:02:39.663353Z",
     "start_time": "2025-08-31T20:02:39.546548Z"
    }
   },
   "cell_type": "code",
   "source": [
    "print('Accuracy :',accuracy_score(y_test, predicted))\n",
    "print(classification_report(y_test, predicted))"
   ],
   "id": "e75993b83e874924",
   "outputs": [
    {
     "name": "stdout",
     "output_type": "stream",
     "text": [
      "Accuracy : 0.9813571428571428\n",
      "              precision    recall  f1-score   support\n",
      "\n",
      "           0       0.99      0.99      0.99      1367\n",
      "           1       0.98      0.99      0.99      1509\n",
      "           2       0.98      0.98      0.98      1443\n",
      "           3       0.98      0.97      0.97      1439\n",
      "           4       0.98      0.98      0.98      1320\n",
      "           5       0.98      0.98      0.98      1281\n",
      "           6       0.99      0.99      0.99      1370\n",
      "           7       0.98      0.98      0.98      1442\n",
      "           8       0.98      0.98      0.98      1397\n",
      "           9       0.98      0.97      0.97      1432\n",
      "\n",
      "    accuracy                           0.98     14000\n",
      "   macro avg       0.98      0.98      0.98     14000\n",
      "weighted avg       0.98      0.98      0.98     14000\n",
      "\n"
     ]
    }
   ],
   "execution_count": 47
  },
  {
   "metadata": {
    "ExecuteTime": {
     "end_time": "2025-08-31T20:02:53.010350Z",
     "start_time": "2025-08-31T20:02:52.984499Z"
    }
   },
   "cell_type": "code",
   "source": [
    "# load an image from a file\n",
    "file_names = [f'digit{i}.png' for i in range(10)]\n",
    "img_list = []\n",
    "\n",
    "for file_name in file_names:\n",
    "    img = Image.open(file_name).convert('L')\n",
    "    img_array = 1.0 - (np.array(img) / 255.0)\n",
    "    img_flat = img_array.flatten()\n",
    "    img_list.append(img_flat)\n"
   ],
   "id": "bcdae35d7f96be8f",
   "outputs": [],
   "execution_count": 48
  },
  {
   "metadata": {
    "ExecuteTime": {
     "end_time": "2025-08-31T20:02:55.781247Z",
     "start_time": "2025-08-31T20:02:55.678455Z"
    }
   },
   "cell_type": "code",
   "source": [
    "# predict the digit\n",
    "img_df = pd.DataFrame(img_list, columns=X_test.columns)\n",
    "prediction = classifier.predict(img_df)\n",
    "print(f\"Predicted digits: {prediction}\")"
   ],
   "id": "981f205181288ffb",
   "outputs": [
    {
     "name": "stdout",
     "output_type": "stream",
     "text": [
      "Predicted digits: ['0' '1' '2' '3' '9' '5' '6' '2' '8' '3']\n"
     ]
    }
   ],
   "execution_count": 49
  },
  {
   "metadata": {
    "ExecuteTime": {
     "end_time": "2025-08-31T20:02:58.852618Z",
     "start_time": "2025-08-31T20:02:58.596311Z"
    }
   },
   "cell_type": "code",
   "source": [
    "# draw the images from table img_df and predicted values\n",
    "plt.figure(figsize=(12, 6))\n",
    "for i in range(len(img_df)):\n",
    "    plt.subplot(2, 5, i + 1)\n",
    "    plt.imshow(img_df.iloc[i].to_numpy().reshape(28, 28), cmap='gray', interpolation='nearest')\n",
    "    plt.title(f\"P: {prediction[i]}\")\n",
    "    plt.axis('off')\n",
    "plt.show()"
   ],
   "id": "883e076d96c824c4",
   "outputs": [
    {
     "data": {
      "text/plain": [
       "<Figure size 1200x600 with 10 Axes>"
      ],
      "image/png": "[encoded data removed]"
     },
     "metadata": {},
     "output_type": "display_data"
    }
   ],
   "execution_count": 50
  },
  {
   "metadata": {
    "ExecuteTime": {
     "end_time": "2025-08-31T20:03:18.759984Z",
     "start_time": "2025-08-31T20:03:08.921137Z"
    }
   },
   "cell_type": "code",
   "source": [
    "knn = KNeighborsClassifier(n_neighbors=6, weights='distance')\n",
    "knn.fit(X_train, y_train)\n",
    "\n",
    "# Predict on dataset which model has not seen before\n",
    "result = knn.predict(X_test)\n",
    "print('Accuracy :', accuracy_score(y_test, result))\n",
    "print(classification_report(y_test, result))"
   ],
   "id": "e82ebe8f7803c27c",
   "outputs": [
    {
     "name": "stdout",
     "output_type": "stream",
     "text": [
      "Accuracy : 0.9734285714285714\n",
      "              precision    recall  f1-score   support\n",
      "\n",
      "           0       0.97      0.99      0.98      1367\n",
      "           1       0.96      1.00      0.98      1509\n",
      "           2       0.99      0.96      0.97      1443\n",
      "           3       0.98      0.96      0.97      1439\n",
      "           4       0.99      0.97      0.98      1320\n",
      "           5       0.97      0.97      0.97      1281\n",
      "           6       0.98      0.99      0.99      1370\n",
      "           7       0.96      0.98      0.97      1442\n",
      "           8       0.99      0.94      0.96      1397\n",
      "           9       0.95      0.97      0.96      1432\n",
      "\n",
      "    accuracy                           0.97     14000\n",
      "   macro avg       0.97      0.97      0.97     14000\n",
      "weighted avg       0.97      0.97      0.97     14000\n",
      "\n"
     ]
    }
   ],
   "execution_count": 51
  },
  {
   "metadata": {
    "ExecuteTime": {
     "end_time": "2025-08-31T20:03:33.737544Z",
     "start_time": "2025-08-31T20:03:33.673914Z"
    }
   },
   "cell_type": "code",
   "source": [
    "result = knn.predict(img_df)\n",
    "print(f\"Predicted digits: {result}\")\n"
   ],
   "id": "132055f42a50f55b",
   "outputs": [
    {
     "name": "stdout",
     "output_type": "stream",
     "text": [
      "Predicted digits: ['0' '1' '2' '3' '9' '5' '6' '1' '8' '3']\n"
     ]
    }
   ],
   "execution_count": 52
  }
 ],
 "metadata": {
  "kernelspec": {
   "display_name": "Python 3",
   "language": "python",
   "name": "python3"
  },
  "language_info": {
   "codemirror_mode": {
    "name": "ipython",
    "version": 2
   },
   "file_extension": ".py",
   "mimetype": "text/x-python",
   "name": "python",
   "nbconvert_exporter": "python",
   "pygments_lexer": "ipython2",
   "version": "2.7.6"
  }
 },
 "nbformat": 4,
 "nbformat_minor": 5
}
